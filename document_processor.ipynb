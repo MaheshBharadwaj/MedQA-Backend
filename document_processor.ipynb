{
 "cells": [
  {
   "cell_type": "code",
   "execution_count": 1,
   "metadata": {},
   "outputs": [
    {
     "name": "stderr",
     "output_type": "stream",
     "text": [
      "/opt/anaconda3/envs/med277project/lib/python3.12/site-packages/tqdm/auto.py:21: TqdmWarning: IProgress not found. Please update jupyter and ipywidgets. See https://ipywidgets.readthedocs.io/en/stable/user_install.html\n",
      "  from .autonotebook import tqdm as notebook_tqdm\n",
      "/opt/anaconda3/envs/med277project/lib/python3.12/site-packages/torchvision/io/image.py:14: UserWarning: Failed to load image Python extension: 'dlopen(/opt/anaconda3/envs/med277project/lib/python3.12/site-packages/torchvision/image.so, 0x0006): Library not loaded: @rpath/libjpeg.9.dylib\n",
      "  Referenced from: <A09E200C-3620-3399-800F-6831D2DFDFC0> /opt/anaconda3/envs/med277project/lib/python3.12/site-packages/torchvision/image.so\n",
      "  Reason: tried: '/opt/anaconda3/envs/med277project/lib/python3.12/site-packages/torchvision/../../../libjpeg.9.dylib' (no such file), '/opt/anaconda3/envs/med277project/lib/python3.12/site-packages/torchvision/../../../libjpeg.9.dylib' (no such file), '/opt/anaconda3/envs/med277project/lib/python3.12/lib-dynload/../../libjpeg.9.dylib' (no such file), '/opt/anaconda3/envs/med277project/bin/../lib/libjpeg.9.dylib' (no such file)'If you don't plan on using image functionality from `torchvision.io`, you can ignore this warning. Otherwise, there might be something wrong with your environment. Did you have `libjpeg` or `libpng` installed before building `torchvision` from source?\n",
      "  warn(\n"
     ]
    }
   ],
   "source": [
    "from langchain.document_loaders import PyPDFLoader\n",
    "from langchain.text_splitter import RecursiveCharacterTextSplitter\n",
    "from langchain.vectorstores import Chroma\n",
    "from langchain.embeddings import SentenceTransformerEmbeddings\n",
    "import os\n",
    "from langchain_huggingface.embeddings import HuggingFaceEmbeddings\n",
    "from sentence_transformers import SentenceTransformer\n",
    "from docx import Document as DocxDocument\n",
    "from langchain_core.documents import Document"
   ]
  },
  {
   "cell_type": "code",
   "execution_count": 2,
   "metadata": {},
   "outputs": [],
   "source": [
    "class DocumentProcessor:\n",
    "    def __init__(self, folder_path, chunk_size=1000, chunk_overlap=200):\n",
    "        self.folder_path = folder_path\n",
    "        self.chunk_size = chunk_size\n",
    "        self.chunk_overlap = chunk_overlap\n",
    "    \n",
    "    def extract_text_from_docx(self, docx_path):\n",
    "        doc = DocxDocument(docx_path)\n",
    "        full_text = []\n",
    "        for para in doc.paragraphs:\n",
    "            full_text.append(para.text)\n",
    "        return '\\n'.join(full_text)\n",
    "\n",
    "    def load_and_split_documents(self):\n",
    "        all_chunks = []\n",
    "        # Iterate over all files in the directory\n",
    "        for filename in os.listdir(self.folder_path):\n",
    "            file_path = os.path.join(self.folder_path, filename)\n",
    "            if filename.endswith('.pdf'):\n",
    "                loader = PyPDFLoader(file_path)\n",
    "                documents = loader.load()\n",
    "                \n",
    "                # Split documents into chunks\n",
    "                splitter = RecursiveCharacterTextSplitter(chunk_size=self.chunk_size, chunk_overlap=self.chunk_overlap)\n",
    "                chunks = splitter.split_documents(documents)\n",
    "                all_chunks.extend(chunks)\n",
    "\n",
    "            elif filename.endswith('.docx'):\n",
    "                print(file_path)\n",
    "                document_text = self.extract_text_from_docx(file_path)\n",
    "\n",
    "                # Create a single Document object with all text from the .docx file\n",
    "                document_object = Document(\n",
    "                    page_content=document_text,\n",
    "                    metadata={\n",
    "                        'source': file_path,\n",
    "                        'page': 1  # Treat the entire document as one page for metadata\n",
    "                    }\n",
    "                )\n",
    "\n",
    "                # Use RecursiveCharacterTextSplitter to split the full document text into chunks\n",
    "                splitter = RecursiveCharacterTextSplitter(chunk_size=self.chunk_size, chunk_overlap=self.chunk_overlap)\n",
    "                chunks = splitter.split_documents([document_object])  # Pass a list containing the single document object\n",
    "                \n",
    "                all_chunks.extend(chunks)\n",
    "\n",
    "        return all_chunks\n",
    "\n",
    "class VectorDatabase:\n",
    "    def __init__(self, persist_directory):\n",
    "        self.persist_directory = persist_directory\n",
    "        self.embeddings = HuggingFaceEmbeddings(model_name=\"all-MiniLM-L6-v2\", model_kwargs={'device': 'mps'})\n",
    "        self.db = None\n",
    "\n",
    "    def create_vector_store(self, documents):\n",
    "        # Create a Chroma vector store from the document chunks\n",
    "        self.db = Chroma.from_documents(documents, self.embeddings, persist_directory=self.persist_directory)\n"
   ]
  },
  {
   "cell_type": "code",
   "execution_count": 3,
   "metadata": {},
   "outputs": [
    {
     "name": "stdout",
     "output_type": "stream",
     "text": [
      "Journals/KOP_guidelines_2024.docx\n"
     ]
    }
   ],
   "source": [
    "journals_folder = 'Journals'\n",
    "persist_directory = './chroma_db'\n",
    "doc_processor = DocumentProcessor(folder_path=journals_folder)\n",
    "document_chunks = doc_processor.load_and_split_documents()\n"
   ]
  },
  {
   "cell_type": "code",
   "execution_count": 4,
   "metadata": {},
   "outputs": [],
   "source": [
    "vector_db = VectorDatabase(persist_directory=persist_directory)\n",
    "vector_db.create_vector_store(document_chunks)\n",
    "# vector_db.persist()"
   ]
  },
  {
   "cell_type": "code",
   "execution_count": 22,
   "metadata": {},
   "outputs": [
    {
     "data": {
      "text/plain": [
       "Document(metadata={'source': 'Journals/1-s2.0-S1521689623000034-main.pdf', 'page': 0}, page_content='7\\nPatient selection in ambulatory surgery\\nJohn A. Hodgson, MD, Associate Professora,\\nKyle L. Cyr, MD, Assistant Professora,\\nBobbieJean Sweitzer, MD, FACP, SAMBA-F, FASA, Professorb, *\\na Walter Reed National Military Medical Center and Uniformed Services University, 8901 Wisconsin Avenue,\\nBethesda, MD, 20889, United States\\nb Medical Education, University of Virginia, Systems Director, Preoperative Medicine, Inova Health, 3300\\nGallows Road, Falls Church, VA, 22042, United States\\nKeywords:\\nambulatory\\nanesthesia\\nsurgery\\noutpatient\\nofﬁce-based\\npreoperative\\ncomorbidities\\nambulatory surgicenters\\nPatient selection is important for ambulatory surgical practices.\\nProper patient selection for ambulatory practices will optimize\\nresources and lead to increased patient and provider satisfaction.\\nAs the number and complexity of procedures in ambulatory sur-\\ngical centers increase, it is important to ensure that patients are\\nbest cared for in facilities that can provide appropriate levels of')"
      ]
     },
     "execution_count": 22,
     "metadata": {},
     "output_type": "execute_result"
    }
   ],
   "source": [
    "document_chunks[0]"
   ]
  },
  {
   "cell_type": "code",
   "execution_count": null,
   "metadata": {},
   "outputs": [],
   "source": []
  },
  {
   "cell_type": "code",
   "execution_count": 5,
   "metadata": {},
   "outputs": [
    {
     "name": "stdout",
     "output_type": "stream",
     "text": [
      "UCSD Koman Outpatient Pavilion Case and Patient Selection Criteria\n",
      "\n",
      "Patient Selection The list below is not necessarily exclusion criteria (unless specifically stated as such), but rather cases that may require further MD review and potential workup before receiving clearance to have surgery at KOP. Please contact APC regarding questions for KOP clearance.\n",
      "General Theme – What determines if an outpatient surgery should be done at KOP versus main OR? This is not always black and white and will require clinical judgement. The following guidelines aim to set some expectations but does not fill all the holes. In general, the thought process is that if the MD feels the following, surgery may need to move to the main hospital:\n",
      "patient will be very high risk for admission, patient should be done in the main operating room. This is also dependent on the type of surgery and anesthesia plan (not just patient comorbidities)\n",
      "patient will require more invasive monitoring for safe anesthesia (i.e. arterial line, central line), patient should be done in the main operating room\n",
      "patient is at high risk for serious morbidity or complication that, if occurs, KOP does not have the resources to manage (i.e. cath lab, stroke team, labor & delivery/intraoperative fetal monitoring)\n",
      "Recommendations are based on UCSD specific practices and the following article on patient selection for adult ambulatory surgery: https://journals.lww.com/anesthesia-analgesia/Fulltext/2021/12000/Patient_Selection_for_Adult_Ambulatory_Surgery__A.10.aspx\n",
      "\n",
      "Admission status \n",
      "Patients requiring 23h observation or high chance of admission are to be excluded from KOP\n",
      "Admission status \n",
      "Patients requiring 23h observation or high chance of admission are to be excluded from KOP\n",
      "\n",
      "GLP-agonists\n",
      "The ASA consensus statement apply for both inpatient and outpatient elective surgeries (not unique to KOP)\n",
      "If case is deemed urgent but patient has not appropriately stopped their GLP-agonist and are considered full-stomach, consider transferring surgery to main hospital rather than performing at outpatient surgery center.\n",
      "Generally, patients should stop weekly dosing one week prior to elective surgery or daily dosing one day prior to elective surgery. If they did not stop their GLP-agonist in a timely manner but are close to it (e.g., stopped 5-7 days prior), consider gastric ultrasound to assess for full stomach (may ask regional anesthesia to perform) combined with symptom assessment. Decision to proceed should be done on a case-by-case basis.\n",
      "COVID history\n",
      "Please review the most updated guidelines for UCSD for COVID-related issues. This will be based on a tier-based system and ongoing changes to our pandemic-related guidelines.\n",
      "\n",
      "Surgical Case Duration  \n",
      "There is no limit for surgical case duration, however, if anticipated PACU length of stay would go beyond 8pm, then will need to be discussed with anesthesia and nursing.\n",
      "\n",
      "ASA Physical Status score \n",
      "ASA 3 is appropriate as long as comorbidities are stabilized\n",
      "ASA 4 is appropriate for low risk procedures performed under non-general anesthesia (i.e. local, regional anesthesia, sedation) if comorbidities stabilized\n",
      "\n",
      "Age\n",
      "Children < 8 years old excluded. All children ≤13 years of age need to be approved by pediatric anesthesiology\n",
      "There is no exclusion for age in the elderly population\n",
      "Patients ≤ 13 years old will be performed by a pediatric anesthesiologist. They will also need to be available/in-house for postoperative recovery.\n",
      "Women of childbearing age\n",
      "If patient is pregnant ≥ 24 weeks (as they would require fetal monitoring and on-site OB surgeon in the event of a crash c-section needed), they are excluded from KOP\n",
      "Patients who are less than 24 weeks now usually receive pre and post-op fetal heart monitoring checks. This is to be performed by L&D nurses. Because they are unavailable to come to KOP, these patients are then performed at the main hospitals. However, if the case is done under local/MAC and it is agreed by OB (and in writing) to forego pre- and postop testing, it can be done at KOP.\n",
      "\n",
      "Obesity\n",
      "No exclusion, however, will be addressed on case-by-case basis if BMI >40kg/m2:\n",
      "BMI 40 – 50: as long as comorbidities optimized\n",
      "BMI 50 - 60: okay for low-risk procedures in absence of severe cardiopulmonary comorbidities\n",
      "BMI > 60: consider likely not appropriate\n",
      "Obstructive Sleep Apnea\n",
      "Not an absolute exclusion, however, patients with OSA are screened on a case-by-case basis. This will be dependent on patients’ home care situation and expected pain from surgery\n",
      "Preoperative sleep study is NOT required \n",
      "Patients compliant with CPAP are encouraged to continue usage. They are encouraged to bring their device with them in the case it would be beneficial for them to use it in the PACU. It is okay for patients to use their home CPAP machine at UCSD without the need for biomed clearance.\n",
      "Patients with OSA should be scheduled as early in the day as possible\n",
      "Cardiac Disease\n",
      "Asymptomatic cardiac patients – who are optimized – do not require cardiac testing\n",
      "Surgery should not be postponed solely on blood pressure values unless patient has malignant hypertension (diastolic BP >110mHg) with signs of acute end-organ damage\n",
      "Exclude if patient had myocardial infarction least than 30 days ago\n",
      "Patients with decompensated, new onset, or untreated heart failure as well as symptomatic patients with low left ventricular ejection fraction (<35%) are excluded\n",
      "Patients with symptomatic (i.e. fatigue, dizziness, syncope, palpitations, chest pain, dyspnea) new onset atrial fibrillation (or other similar arrythmia) are to be excluded\n",
      "Patients with severe valve disease (i.e. severe aortic stenosis) are excluded unless low-risk procedure not requiring general anesthesia\n",
      "Patients with severe valve disease (i.e. severe aortic stenosis) are excluded unless low-risk procedure not requiring general anesthesia\n",
      "Patients with coronary stents are suitable if comorbidity burden is low, sufficient time has elapsed since stent implantation (30 days for bare metal stent, 6 months for newer drug-eluting stent, or 12 months for older drug-eluting stent) allowing time to interrupt dual anti-platelet therapy, or patient has transitioned to a state of stable ischemic coronary disease.\n",
      "Patients who are on Dual anti-platelet therapy and do not have increased risk factors for stent thrombosis can discontinue their Plavix/Pradaxa/etc and remain on aspirin ONLY with permission from cardiologist\n",
      "Electronic implantable device (i.e. ICD, pacemaker) – these patients are appropriate if potential for electromagnetic interference is low (i.e. proximity to surgical field), devices have been appropriately interrogated, and there is a plan for intraoperative and postoperative programming. In regards to ICD, this will be on a case-by-case basis dependent on the surgical procedure and underlying heart disease (i.e. ICD for severe heart failure likely not a candidate; ICD for rare Vtach could be appropriate).\n",
      "Patients with severe coronary artery disease and positive stress test with no further recommendations from cardiology for intervention, then case must be discussed with anesthesia. Appropriateness for KOP will depend on functional status and the required level of anesthesia.\n",
      "Pulmonary Disease\n",
      "Patients with severe chronic obstructive pulmonary disease (COPD) or asthma are to be excluded for most surgeries, unless it is a low risk procedure that will not require airway manipulation. \n",
      "Patients using home oxygen scheduled under GA should be excluded. Patients that will be done under regional and/or MAC should bring their home oxygen and be considered case-by-case.\n",
      "If allowed to proceed, patients should be instructed to bring their home oxygen\n",
      "Pulmonary HTN patients – generally those with severe pulmonary artery pressure will be excluded, unless it is a low risk procedure that will not require airway manipulation. \n",
      "Patient w/ history of  pulmonary embolus within 6 months will generally be excluded\n",
      "End-stage Renal Disease\n",
      "Patients with ESRD not on dialysis are generally excluded especially if general anesthesia case\n",
      "If on dialysis, exclusion will be on a case-by-case basis. Patients undergoing low-risk non-general anesthesia cases are allowed. Patients requiring general anesthesia will be based on overall comorbidity burden and surgical procedure. Patients will generally require preoperative potassium drawn. All patients on dialysis should have had their dialysis at least a day before their surgery\n",
      "Comorbidities need to optimized as well; however, chronic anemia and asymptomatic hyperkalemia (K<6.0) are acceptable\n",
      "\n",
      "Previous Stroke/Transient Ischemic Attack\n",
      "Elective surgery should be delayed for at least 9 months\n",
      "\n",
      "Malignant Hyperthermia\n",
      "Patient with prior history or strong family history of malignant hyperthermia (MH) are allowed, however, this needs to be communicated to KOP early for preparation\n",
      "DMII – diabetes is NOT an exclusion criteria, but those with uncontrolled diabetes should be forwarded to MD for further review\n",
      "Should be scheduled as close to first case of the day to minimize interruption of insulin dosing routine and ability to return to regular dosing as soon as possible \n",
      "Patients with poorly controlled diabetes and non-compliant with their medications (evidenced by fasting glucose ≥ 300) should be reviewed on a case-by-case basis.\n",
      "Provide specific instructions to patients: \n",
      "Preop: check blood glucose regularly while fasting \n",
      "Have glucose tabs/sugar water available while travelling to and from surgical facility \n",
      "Only resume oral hypoglycemic therapy if patient is tolerating PO. Otherwise continue to hold when patient gets home \n",
      "Consider telling patients to delay their usual daily insulin regimen until they are tolerating their usual diet. \n",
      "\n",
      "Liver\n",
      "Patients with hepatic failure or severe cirrhosis are generally not appropriate for KOP.\n",
      "Liver\n",
      "Patients with hepatic failure or severe cirrhosis are generally not appropriate for KOP. \n",
      "\n",
      "Coagulopathy (thrombocytopenia, VWF, Hemophilia, anemia) \n",
      "Anemia < 8\n",
      "Platelets < 80\n",
      "INR > 2.0\n",
      "VWF, Hemophilia, etc\n",
      "MD should review all of the above and determine if appropriate for KOP. This will be dependent on the blood-loss potential of the surgery (i.e. hysterectomy, joint replacement, D&E are considered to have higher blood loss potential than other surgeries)\n",
      "Hematology requests for perioperative infusion of factors is okay for KOP depending on bleeding risk of surgery. Needs to be discussed with anesthesia.\n",
      "We cannot perform surgeries where blood transfusion is planned. KOP is not licensed for planned blood transfusion. Having said that, we can transfuse urgently if needed.\n",
      "\n",
      "Recent Hospital Admission\n",
      "Should have MD/APC review for appropriateness.\n",
      "\n",
      "Autoimmune Disease\n",
      "Myasthenic Gravis, Lupus, Guillian Barre, etc (have MD/APC review all)\n",
      "Recent Hospital Admission\n",
      "Should have MD/APC review for appropriateness.\n",
      "\n",
      "Autoimmune Disease\n",
      "Myasthenic Gravis, Lupus, Guillian Barre, etc (have MD/APC review all)\n",
      "\n",
      "Psychosocial Factors\n",
      "Patient must have a reliable ride home\n",
      "Major psychiatric conditions that warrant 1:1 nursing:patient ratio in PACU should be excluded \n",
      "Patients who live alone, have no social support system postoperatively, or are homeless should be discussed further with MD regarding safety of same-day discharge. Living alone is not an exclusion but an issue that may require discussion.\n",
      "Chronic Pain/Opioid Users\n",
      "KOP eligibility will be determined on a case-by-case basis as this will depend on the pain management plan (i.e. regional nerve block), surgical procedure/anatomy, patient expectations (i.e. existence of pain contract), social support, and other psychosocial factors.\n",
      "If given all the above issues and it is determined that patient will be high risk for admission for pain control, then surgery should be done in the main hospital.\n",
      "\n",
      "\n",
      "\n",
      "\n",
      "\n",
      "References:\n",
      "\n",
      "Practice Guidelines for the Perioperative Management of Patients with Obstructive Sleep Apnea: An Updated Report by the American Society of Anesthesiologists Task Force on Perioperative Management of Patients with Obstructive Sleep Apnea. Anesthesiology. 2014; 120: 268-286. \n",
      "\n",
      "Practice Guidelines for Perioperative Blood Management: An Updated Report by the American Society of Anesthesiologists Task Force on Perioperative Blood Management. Anesthesiology. 2015; 122: 241-275.\n",
      "Bryson GL, et al. Patient selection in ambulatory anesthesia-An evidence-based review: part I. Canadian Journal of Anesthesia. 2004; 51 (8): 768-781.\n",
      "Bryson GL, et al. Patient selection in ambulatory anesthesia-An evidence-based review: part II. Canadian Journal of Anesthesia. 2004; 51 (8): 782-794.\n",
      "\n",
      "Jorgensen et al. Time Elapsed After Ischemic Stroke and Risk of Adverse Cardiovascular Events and Mortality Following Elective Noncardiac Surgery. JAMA. 2014; 312 (3):269-277\n",
      "\n",
      "Joshi GP, et al. Society for Ambulatory Anesthesia Consensus Statement on Preoperative Selection of Adults Patients with Obstructive Sleep Apnea Scheduled for Ambulatory Surgery. Anesthesia-Analgesia. 2012; 115 (5): 1060-1068.\n",
      "\n",
      "Joshi GP, et al. Society for Ambulatory Anesthesia Consensus Statement on Perioperative Blood Glucose Management in Diabetic Patients Undergoing Ambulatory Surgery. Anesthesia-Analgesia. 2010; 111 (6): 1378-1387.\n",
      "Mathis MR, et al. Patient Selection for Day Case-eligible Surgery: Identifying Those at High Risk for Major Complications. Anesthesiology. 2013; 119 (6): 1310-1321.\n"
     ]
    }
   ],
   "source": [
    "document_set = set()\n",
    "for document_chunk in document_chunks:\n",
    "    document_set.add(document_chunk.metadata['source'])\n",
    "    if document_chunk.metadata['source'] == 'Journals/KOP_guidelines_2024.docx':\n",
    "        print(document_chunk.page_content)\n",
    "# document_set.add(document_chunk.metadata)"
   ]
  },
  {
   "cell_type": "code",
   "execution_count": 7,
   "metadata": {},
   "outputs": [
    {
     "data": {
      "text/plain": [
       "{'Journals/1-s2.0-S0883540324011811-main.pdf',\n",
       " 'Journals/1-s2.0-S1521689622000568-main.pdf',\n",
       " 'Journals/1-s2.0-S1521689623000034-main.pdf',\n",
       " 'Journals/ACO.0000000000000919.pdf',\n",
       " 'Journals/KOP_guidelines_2024.docx',\n",
       " 'Journals/aco.0000000000000266.pdf',\n",
       " 'Journals/j.anclin.2019.01.001.pdf',\n",
       " 'Journals/patient_selection_for_adult_ambulatory_surgery__a.10.pdf',\n",
       " 'Journals/pro_con_debate__are_patients_with_a_cardiovascular.7.pdf',\n",
       " 'Journals/society_for_ambulatory_anesthesia_updated.4.pdf'}"
      ]
     },
     "execution_count": 7,
     "metadata": {},
     "output_type": "execute_result"
    }
   ],
   "source": [
    "document_set"
   ]
  }
 ],
 "metadata": {
  "kernelspec": {
   "display_name": "med277project",
   "language": "python",
   "name": "python3"
  },
  "language_info": {
   "codemirror_mode": {
    "name": "ipython",
    "version": 3
   },
   "file_extension": ".py",
   "mimetype": "text/x-python",
   "name": "python",
   "nbconvert_exporter": "python",
   "pygments_lexer": "ipython3",
   "version": "3.12.2"
  }
 },
 "nbformat": 4,
 "nbformat_minor": 2
}
