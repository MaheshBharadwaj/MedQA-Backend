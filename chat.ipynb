{
 "cells": [
  {
   "cell_type": "code",
   "execution_count": 4,
   "metadata": {},
   "outputs": [],
   "source": [
    "import os\n",
    "from langchain.chat_models import ChatOpenAI\n",
    "from langchain.prompts import ChatPromptTemplate, SystemMessagePromptTemplate, HumanMessagePromptTemplate\n",
    "from dotenv import load_dotenv\n",
    "from langchain.vectorstores import Chroma\n",
    "from langchain_huggingface.embeddings import HuggingFaceEmbeddings\n",
    "from langchain.prompts import ChatPromptTemplate\n",
    "from langchain_openai import ChatOpenAI\n",
    "from langchain.vectorstores import Chroma\n",
    "from langchain_huggingface.embeddings import HuggingFaceEmbeddings\n",
    "from langchain import hub\n",
    "from langchain_openai import ChatOpenAI\n",
    "from langchain.prompts.chat import ChatPromptTemplate\n",
    "from langchain.schema import StrOutputParser\n",
    "from langchain.schema.runnable import RunnablePassthrough\n",
    "import warnings\n",
    "from operator import itemgetter\n",
    "import yaml\n",
    "import os\n",
    "import yaml\n",
    "from langchain import hub\n",
    "from langchain.chat_models import ChatOpenAI\n",
    "from langchain.schema import StrOutputParser\n",
    "from langchain.schema.runnable import RunnablePassthrough\n",
    "from langchain.prompts.chat import ChatPromptTemplate, HumanMessagePromptTemplate, SystemMessagePromptTemplate\n",
    "from langchain_core.messages import HumanMessage, AIMessage, SystemMessage\n",
    "# from src.vector_store_handler import VectorStoreHandler\n",
    "from operator import itemgetter\n",
    "from langchain.chat_models import ChatOpenAI\n",
    "from langchain.schema import HumanMessage, AIMessage, SystemMessage\n",
    "# from langchain_core.parsers import StrOutputParser"
   ]
  },
  {
   "cell_type": "code",
   "execution_count": 5,
   "metadata": {},
   "outputs": [],
   "source": [
    "# Suppress all warnings\n",
    "warnings.filterwarnings('ignore')\n",
    "\n",
    "# Example usage\n",
    "def example_function():\n",
    "    warnings.warn(\"This is a warning message\", UserWarning)\n",
    "\n",
    "example_function()  # This warning will not be displayed"
   ]
  },
  {
   "cell_type": "code",
   "execution_count": 6,
   "metadata": {},
   "outputs": [],
   "source": [
    "class DocumentRetriever:\n",
    "    def __init__(self, persist_directory):\n",
    "        self.persist_directory = persist_directory\n",
    "        self.embeddings = HuggingFaceEmbeddings(model_name=\"all-MiniLM-L6-v2\", model_kwargs={'device': 'mps'})\n",
    "        self.vector_db = Chroma(persist_directory=self.persist_directory, embedding_function=self.embeddings)\n",
    "\n",
    "    def retrieve_documents(self, query, top_k=5):\n",
    "        # Retrieve top_k relevant document chunks based on the query\n",
    "        return self.vector_db.similarity_search(query, k=top_k)"
   ]
  },
  {
   "cell_type": "code",
   "execution_count": 7,
   "metadata": {},
   "outputs": [],
   "source": [
    "\n",
    "\n",
    "# class DocumentRetriever:\n",
    "#     def __init__(self, persist_directory):\n",
    "#         self.persist_directory = persist_directory\n",
    "#         self.embeddings = HuggingFaceEmbeddings(model_name=\"all-MiniLM-L6-v2\", model_kwargs={'device': 'mps'})\n",
    "#         self.vector_db = Chroma(persist_directory=self.persist_directory, embedding_function=self.embeddings)\n",
    "#         self.retriever = self.vector_db.as_retriever()\n",
    "\n",
    "#     def retrieve_documents(self, query, top_k=5):\n",
    "#         # Retrieve top_k relevant document chunks based on the query\n",
    "#         return self.retriever.similarity_search(query, k=top_k)"
   ]
  },
  {
   "cell_type": "code",
   "execution_count": 8,
   "metadata": {},
   "outputs": [],
   "source": [
    "class RAGChatBot:\n",
    "    def __init__(self, retriever, openai_api_key):\n",
    "        self.retriever = retriever\n",
    "        os.environ[\"OPENAI_API_KEY\"] = openai_api_key\n",
    "        self.chat_model = ChatOpenAI(model_name=\"gpt-3.5-turbo\", temperature=0)\n",
    "        self.prompt_template = hub.pull(\"rlm/rag-prompt\")\n",
    "\n",
    "    def format_docs(self, docs):\n",
    "        return \"\\n\\n\".join(doc.page_content for doc in docs)\n",
    "\n",
    "    def generate_response(self, user_query):\n",
    "        # Retrieve documents relevant to the user query\n",
    "        relevant_docs = self.retriever.retrieve_documents(user_query)\n",
    "        relevant_context = self.format_docs(relevant_docs)\n",
    "        # for relevant_doc in relevant_docs:\n",
    "            # print(relevant_doc.metadata['source'])\n",
    "            # print(relevant_doc.page_content)\n",
    "\n",
    "        user_query = user_query + \" Is the patient appropriate for inpatient or outpatient surgery? Why?\"\n",
    "#         instructions = \"\"\"\n",
    "#         1. You are a highly knowledgeable and empathetic medical assistant specializing in advising on surgical procedures. Your primary role is to help both doctors and patients decide whether a given surgery is appropriate be conducted as an inpatient or outpatient procedure. You provide detailed explanations to support your recommendations, ensuring that users make informed decisions.\n",
    "#         2. If a user chats about some topic on medical device, but doesn't ask/chat about inpatient or outpatient surgery, gently ask the user if you should help him regarding the inpatient vs outpatient surgery\n",
    "#         3. If a user asks questions outside the medical domain, gently remind them that your expertise is focused on healthcare and surgical advice.\n",
    "#         4. Chat with the user using the given context. If the context is not at all relevant to the question asked. Tell your reasoning behind your answer and let the user know that you are not sure of the answer, due to lack of relevent context on your end to answer the question.\n",
    "#         5. If you feel that the data provided is insufficient to answer the question, gently ask the user about more information.\n",
    "#   \"\"\"\n",
    "        instructions = \"\"\"1. You are a highly knowledgeable medical assistant specializing in advising on surgical procedures. Your primary role is to help both doctors and patients decide whether a given surgery is appropriate be conducted as an inpatient or outpatient procedure,based on the context given. You provide detailed explanations to support your recommendations, ensuring that users make informed decisions.\n",
    "        2. You can save huge costs if you can correctly identify the case of Outpatient Surgery, so please keep this in mind.\"\"\"\n",
    "        # Construct the input data for the chain\n",
    "        input_data = {\n",
    "            \"context\": relevant_context,\n",
    "            \"question\": user_query,\n",
    "            \"system\": instructions# Directly use the user query here\n",
    "            # \"GUIDELINES\": instructions\n",
    "        }\n",
    "        \n",
    "        # Create a prompt using the template\n",
    "        formatted_prompt = self.prompt_template.format(**input_data)\n",
    "        \n",
    "        # Generate a response using the LLM with invoke method\n",
    "        response = self.chat_model.invoke(formatted_prompt)\n",
    "        \n",
    "        return response.content\n",
    "\n",
    "    def generate_response_no_rag(self, question):\n",
    "        template = \"\"\"You are a highly knowledgeable and empathetic medical assistant specializing in advising on surgical procedures. Your primary role is to help both doctors and patients decide whether a given surgery is appropriate be conducted as an inpatient or outpatient procedure. You provide detailed explanations to support your recommendations, ensuring that users make informed decisions.\n",
    "\n",
    "Guidelines:\n",
    "1. **Focus on Medical Context:** Always center your responses around medical topics, particularly those related to surgical procedures and patient care settings.\n",
    "2. **Inquire When Necessary:** If you require more information to make an informed decision, politely ask the user specific questions about the surgery details, such as the type of surgery, patient health status, or any existing medical conditions.\n",
    "3. **Educational Approach:** Explain your suggestions clearly, using simple language that both healthcare professionals and patients can understand. Provide insights into the benefits and considerations of each option.\n",
    "4. **Boundary Setting:** If a user asks questions outside the medical domain, gently remind them that your expertise is focused on healthcare and surgical advice.\n",
    "\n",
    "Example Interaction:\n",
    "- **User Query:** \"I need to know if my knee surgery should be inpatient or outpatient.\"\n",
    "- **Response:** \"Knee surgeries can often be performed as outpatient procedures if the patient is in good health and the surgery is minimally invasive. However, if there are underlying health concerns or if a more complex procedure is needed, an inpatient setting might be safer. Could you provide more details about your specific situation?\"\n",
    "\n",
    "By adhering to these guidelines, you ensure that every interaction is informative, supportive, and within the scope of medical advisement.\n",
    "        \"\"\"\n",
    "        template1 = \"\"\"1. You are a highly knowledgeable medical assistant specializing in advising on surgical procedures. Your primary role is to help both doctors and patients decide whether a given surgery is appropriate be conducted as an inpatient or outpatient procedure,based on the context you have. You provide detailed explanations to support your recommendations, ensuring that users make informed decisions.\n",
    "        2. You can save huge costs if you can correctly identify the case of Outpatient Surgery, so please keep this in mind.\"\"\"\n",
    "        system_message_prompt = SystemMessagePromptTemplate.from_template(template1)\n",
    "        human_template = \"{text}\"\n",
    "        human_message_prompt = HumanMessagePromptTemplate.from_template(human_template)\n",
    "\n",
    "        chat_prompt = ChatPromptTemplate.from_messages(\n",
    "            [system_message_prompt, human_message_prompt]\n",
    "        )\n",
    "\n",
    "        msg = self.chat_model.invoke(\n",
    "            chat_prompt.format_prompt(\n",
    "                text=question,\n",
    "            ).to_messages()\n",
    "        )\n",
    "\n",
    "        return msg.content\n",
    "\n",
    "\n",
    "\n",
    "    def generate_answer_with_chat_context(self, messages):\n",
    "        \"\"\"\n",
    "        Generates a response with the last few messages and retrieved context using the chat model.\n",
    "\n",
    "        Args:\n",
    "            messages (list): List of dictionaries representing the conversation history.\n",
    "\n",
    "        Returns:\n",
    "            str: The generated response.\n",
    "        \"\"\"\n",
    "        # Extract the last 4 messages plus the current one\n",
    "        recent_messages = messages[-5:]  # Last 5 messages (4 historical + current)\n",
    "\n",
    "        # Prepare input for retrieval (use only the content of messages, excluding the current one)\n",
    "        retrieval_input = \"\\n\".join(\n",
    "            f\"{message['role'].capitalize()}: {message['content']}\" for message in recent_messages[:-1]\n",
    "        )\n",
    "\n",
    "        # Attempt to retrieve external documents\n",
    "        try:\n",
    "            retrieved_docs = self.retriever.retrieve_documents(retrieval_input)\n",
    "            retrieved_context = self.format_docs(retrieved_docs)\n",
    "        except Exception as e:\n",
    "            retrieved_context = \"No additional information could be retrieved.\"\n",
    "            print(f\"Error during document retrieval: {e}\")\n",
    "\n",
    "        # Ensure retrieved context is a valid string\n",
    "        retrieved_context = str(retrieved_context)\n",
    "\n",
    "        # Add a system message with the retrieved context\n",
    "        system_message_prompt = \"\"\"1. You are a highly knowledgeable medical chat assistant specializing in advising on surgical procedures. Your primary role is to help both doctors and patients decide whether a given surgery is appropriate be conducted as an inpatient or outpatient procedure,based on the context you have. You provide detailed explanations to support your recommendations, ensuring that users make informed decisions.\n",
    "        2. You can save HUGE costs if you can correctly identify the case of Outpatient Surgery, so need not be conservative if you are confident, with the context you have.\n",
    "        3. If the question/chat is outside the medical domain, gently remind your expertise.\"\"\"\n",
    "        system_message = SystemMessage(content= system_message_prompt + f\"\\n **RELEVANT INFORMATION RETREIVED**:\\n{retrieved_context}\")\n",
    "        # system_message = SystemMessage(content=\"You are a Medical QA chat assistant and you are specialized in making decisions between Inpatient vs Outpatient surgeries.\")\n",
    "\n",
    "        # Convert recent conversation into LangChain message objects\n",
    "        formatted_recent_messages = []\n",
    "        for message in recent_messages:\n",
    "            if message[\"role\"] == \"user\":\n",
    "                formatted_recent_messages.append(HumanMessage(content=message[\"content\"]))\n",
    "            elif message[\"role\"] == \"ai\":\n",
    "                formatted_recent_messages.append(AIMessage(content=message[\"content\"]))\n",
    "            else:\n",
    "                raise ValueError(f\"Unexpected role: {message['role']}\")\n",
    "\n",
    "        # Combine system message and formatted recent messages\n",
    "        input_messages = [system_message] + formatted_recent_messages\n",
    "        #formatted_recent_messages.append(HumanMessage(content=\"Outpatient Surgery saves a lot of money. So never be conservative until otherwise inpatient surgery is ABSOULETELY necessary.\"))\n",
    "        # input_messages =  formatted_recent_messages\n",
    "        # print(input_messages)\n",
    "\n",
    "        # Generate the response using the chat model\n",
    "        try:\n",
    "            llm_response = self.chat_model.invoke(input_messages)\n",
    "        except Exception as e:\n",
    "            print(f\"Error during model generation: {e}\")\n",
    "            raise\n",
    "\n",
    "        # Parse the response if needed\n",
    "        parsed_response = StrOutputParser().parse(llm_response)\n",
    "\n",
    "        return parsed_response.content\n",
    "\n",
    "\n",
    "    # def generate_answer_with_chat_context(self, messages):\n",
    "    #     \"\"\"\n",
    "    #     Generates a response with the last few messages and retrieved context using the chat model.\n",
    "\n",
    "    #     Args:\n",
    "    #         messages (list): List of dictionaries representing the conversation history.\n",
    "\n",
    "    #     Returns:\n",
    "    #         str: The generated response.\n",
    "    #     \"\"\"\n",
    "    #     # Extract the last 4 messages plus the current one\n",
    "    #     recent_messages = messages[-5:]  # Last 5 messages (4 historical + current)\n",
    "\n",
    "    #     # Prepare input for retrieval (use only the content of messages, excluding the current one)\n",
    "    #     retrieval_input = \"\\n\".join(\n",
    "    #         message['content'] for message in recent_messages[:-1]\n",
    "    #     )\n",
    "\n",
    "    #     # Attempt to retrieve external documents\n",
    "    #     try:\n",
    "    #         retrieved_docs = self.retriever.retrieve_documents(retrieval_input)\n",
    "    #         retrieved_context = self.format_docs(retrieved_docs)\n",
    "    #     except Exception as e:\n",
    "    #         retrieved_context = \"No additional information could be retrieved.\"\n",
    "    #         print(f\"Error during document retrieval: {e}\")\n",
    "\n",
    "    #     # Ensure retrieved context is a valid string\n",
    "    #     retrieved_context = str(retrieved_context)\n",
    "\n",
    "    #     # Instructions for the assistant\n",
    "    #     instructions = \"\"\"1. You are a highly knowledgeable medical chat assistant specializing in advising on surgical procedures. Your primary role is to help both doctors and patients decide whether a given surgery is appropriate to be conducted as an inpatient or outpatient procedure based on the context you have. You provide detailed explanations to support your recommendations, ensuring that users make informed decisions.\n",
    "    # 2. You can save huge costs if you can correctly identify the case of Outpatient Surgery, so need not be conservative if you are confident, with the context you have.\n",
    "    # 3. If the question/chat is outside the medical domain, gently remind your expertise.\n",
    "    # 4. If you are not sure, either ask questions to user or say you need more information or that you don't know.\"\"\"\n",
    "\n",
    "    #     # Construct input data for the LLM\n",
    "    #     input_data = {\n",
    "    #         \"context\": retrieved_context,\n",
    "    #         \"question\": recent_messages[-1]['content'],  # Use the latest user query\n",
    "    #         \"GUIDELINES\": instructions\n",
    "    #     }\n",
    "        \n",
    "    #     # Create a prompt using your template\n",
    "    #     formatted_prompt = self.prompt_template.format(**input_data)\n",
    "\n",
    "    #     # Generate a response using the LLM with invoke method\n",
    "    #     try:\n",
    "    #         response = self.chat_model.invoke(formatted_prompt)\n",
    "    #         parsed_response = StrOutputParser().parse(response)\n",
    "    #     except Exception as e:\n",
    "    #         print(f\"Error during model generation: {e}\")\n",
    "    #         parsed_response = \"An error occurred while generating a response.\"\n",
    "\n",
    "    #     return parsed_response.content"
   ]
  },
  {
   "cell_type": "code",
   "execution_count": null,
   "metadata": {},
   "outputs": [],
   "source": []
  },
  {
   "cell_type": "code",
   "execution_count": 9,
   "metadata": {},
   "outputs": [],
   "source": [
    "class RAGChatBot:\n",
    "    def __init__(self, retriever, openai_api_key):\n",
    "        self.retriever = retriever\n",
    "        os.environ[\"OPENAI_API_KEY\"] = openai_api_key\n",
    "        self.chat_model = ChatOpenAI(model_name=\"gpt-3.5-turbo\", temperature=0)\n",
    "        self.prompt_template = hub.pull(\"rlm/rag-prompt\")\n",
    "\n",
    "    def format_docs(self, docs):\n",
    "        return \"\\n\\n\".join(doc.page_content for doc in docs)\n",
    "\n",
    "    def generate_response(self, user_query):\n",
    "        # Retrieve documents relevant to the user query\n",
    "        relevant_docs = self.retriever.retrieve_documents(user_query)\n",
    "        relevant_context = self.format_docs(relevant_docs)\n",
    "        # for relevant_doc in relevant_docs:\n",
    "            # print(relevant_doc.metadata['source'])\n",
    "            # print(relevant_doc.page_content)\n",
    "\n",
    "        user_query = user_query + \" Is the patient appropriate for inpatient or outpatient surgery? Why?\"\n",
    "#         instructions = \"\"\"\n",
    "#         1. You are a highly knowledgeable and empathetic medical assistant specializing in advising on surgical procedures. Your primary role is to help both doctors and patients decide whether a given surgery is appropriate be conducted as an inpatient or outpatient procedure. You provide detailed explanations to support your recommendations, ensuring that users make informed decisions.\n",
    "#         2. If a user chats about some topic on medical device, but doesn't ask/chat about inpatient or outpatient surgery, gently ask the user if you should help him regarding the inpatient vs outpatient surgery\n",
    "#         3. If a user asks questions outside the medical domain, gently remind them that your expertise is focused on healthcare and surgical advice.\n",
    "#         4. Chat with the user using the given context. If the context is not at all relevant to the question asked. Tell your reasoning behind your answer and let the user know that you are not sure of the answer, due to lack of relevent context on your end to answer the question.\n",
    "#         5. If you feel that the data provided is insufficient to answer the question, gently ask the user about more information.\n",
    "#   \"\"\"\n",
    "        instructions = \"\"\"1. You are a highly knowledgeable medical assistant specializing in advising on surgical procedures. Your primary role is to help both doctors and patients decide whether a given surgery is appropriate be conducted as an inpatient or outpatient procedure,based on the context given. You provide detailed explanations to support your recommendations, ensuring that users make informed decisions.\n",
    "        2. You can save huge costs if you can correctly identify the case of Outpatient Surgery, so please keep this in mind.\"\"\"\n",
    "        # Construct the input data for the chain\n",
    "        input_data = {\n",
    "            \"context\": relevant_context,\n",
    "            \"question\": user_query,\n",
    "            \"system\": instructions# Directly use the user query here\n",
    "            # \"GUIDELINES\": instructions\n",
    "        }\n",
    "        \n",
    "        # Create a prompt using the template\n",
    "        formatted_prompt = self.prompt_template.format(**input_data)\n",
    "        \n",
    "        # Generate a response using the LLM with invoke method\n",
    "        response = self.chat_model.invoke(formatted_prompt)\n",
    "        \n",
    "        return response.content\n",
    "\n",
    "    def generate_response_no_rag(self, question):\n",
    "        template = \"\"\"You are a highly knowledgeable and empathetic medical assistant specializing in advising on surgical procedures. Your primary role is to help both doctors and patients decide whether a given surgery is appropriate be conducted as an inpatient or outpatient procedure. You provide detailed explanations to support your recommendations, ensuring that users make informed decisions.\n",
    "\n",
    "Guidelines:\n",
    "1. **Focus on Medical Context:** Always center your responses around medical topics, particularly those related to surgical procedures and patient care settings.\n",
    "2. **Inquire When Necessary:** If you require more information to make an informed decision, politely ask the user specific questions about the surgery details, such as the type of surgery, patient health status, or any existing medical conditions.\n",
    "3. **Educational Approach:** Explain your suggestions clearly, using simple language that both healthcare professionals and patients can understand. Provide insights into the benefits and considerations of each option.\n",
    "4. **Boundary Setting:** If a user asks questions outside the medical domain, gently remind them that your expertise is focused on healthcare and surgical advice.\n",
    "\n",
    "Example Interaction:\n",
    "- **User Query:** \"I need to know if my knee surgery should be inpatient or outpatient.\"\n",
    "- **Response:** \"Knee surgeries can often be performed as outpatient procedures if the patient is in good health and the surgery is minimally invasive. However, if there are underlying health concerns or if a more complex procedure is needed, an inpatient setting might be safer. Could you provide more details about your specific situation?\"\n",
    "\n",
    "By adhering to these guidelines, you ensure that every interaction is informative, supportive, and within the scope of medical advisement.\n",
    "        \"\"\"\n",
    "        template1 = \"\"\"1. You are a highly knowledgeable medical assistant specializing in advising on surgical procedures. Your primary role is to help both doctors and patients decide whether a given surgery is appropriate be conducted as an inpatient or outpatient procedure,based on the context you have. You provide detailed explanations to support your recommendations, ensuring that users make informed decisions.\n",
    "        2. You can save huge costs if you can correctly identify the case of Outpatient Surgery, so please keep this in mind.\"\"\"\n",
    "        system_message_prompt = SystemMessagePromptTemplate.from_template(template1)\n",
    "        human_template = \"{text}\"\n",
    "        human_message_prompt = HumanMessagePromptTemplate.from_template(human_template)\n",
    "\n",
    "        chat_prompt = ChatPromptTemplate.from_messages(\n",
    "            [system_message_prompt, human_message_prompt]\n",
    "        )\n",
    "\n",
    "        msg = self.chat_model.invoke(\n",
    "            chat_prompt.format_prompt(\n",
    "                text=question,\n",
    "            ).to_messages()\n",
    "        )\n",
    "\n",
    "        return msg.content\n",
    "\n",
    "\n",
    "\n",
    "    def generate_answer_with_chat_context(self, messages):\n",
    "        \"\"\"\n",
    "        Generates a response with the last few messages and retrieved context using the chat model.\n",
    "\n",
    "        Args:\n",
    "            messages (list): List of dictionaries representing the conversation history.\n",
    "\n",
    "        Returns:\n",
    "            str: The generated response.\n",
    "        \"\"\"\n",
    "        # Extract the last 4 messages plus the current one\n",
    "        recent_messages = messages[-5:]  # Last 5 messages (4 historical + current)\n",
    "\n",
    "        # Prepare input for retrieval (use only the content of messages, excluding the current one)\n",
    "        retrieval_input = \"\\n\".join(\n",
    "            f\"{message['role'].capitalize()}: {message['content']}\" for message in recent_messages[:-1]\n",
    "        )\n",
    "\n",
    "        # Attempt to retrieve external documents\n",
    "        try:\n",
    "            retrieved_docs = self.retriever.retrieve_documents(retrieval_input)\n",
    "            retrieved_context = self.format_docs(retrieved_docs)\n",
    "        except Exception as e:\n",
    "            retrieved_context = \"No additional information could be retrieved.\"\n",
    "            print(f\"Error during document retrieval: {e}\")\n",
    "\n",
    "        # Ensure retrieved context is a valid string\n",
    "        retrieved_context = str(retrieved_context)\n",
    "\n",
    "        # Add a system message with the retrieved context\n",
    "        system_message_prompt = \"\"\"1. You are a highly knowledgeable medical chat assistant specializing in advising on surgical procedures. Your primary role is to help both doctors and patients decide whether a given surgery is appropriate be conducted as an inpatient or outpatient procedure,based on the context you have. You provide detailed explanations to support your recommendations, ensuring that users make informed decisions.\n",
    "        2. You can save HUGE costs if you can correctly identify the case of Outpatient Surgery, so need not be conservative if you are confident, with the context you have.\n",
    "        3. If the question/chat is outside the medical domain, gently remind your expertise.\"\"\"\n",
    "        system_message = SystemMessage(content= system_message_prompt + f\"\\n **RELEVANT INFORMATION RETREIVED**:\\n{retrieved_context}\")\n",
    "        # system_message = SystemMessage(content=\"You are a Medical QA chat assistant and you are specialized in making decisions between Inpatient vs Outpatient surgeries.\")\n",
    "\n",
    "        # Convert recent conversation into LangChain message objects\n",
    "        formatted_recent_messages = []\n",
    "        for message in recent_messages:\n",
    "            if message[\"role\"] == \"user\":\n",
    "                formatted_recent_messages.append(HumanMessage(content=message[\"content\"]))\n",
    "            elif message[\"role\"] == \"ai\":\n",
    "                formatted_recent_messages.append(AIMessage(content=message[\"content\"]))\n",
    "            else:\n",
    "                raise ValueError(f\"Unexpected role: {message['role']}\")\n",
    "\n",
    "        # Combine system message and formatted recent messages\n",
    "        input_messages = [system_message] + formatted_recent_messages\n",
    "        #formatted_recent_messages.append(HumanMessage(content=\"Outpatient Surgery saves a lot of money. So never be conservative until otherwise inpatient surgery is ABSOULETELY necessary.\"))\n",
    "        # input_messages =  formatted_recent_messages\n",
    "        # print(input_messages)\n",
    "\n",
    "        # Generate the response using the chat model\n",
    "        try:\n",
    "            llm_response = self.chat_model.invoke(input_messages)\n",
    "        except Exception as e:\n",
    "            print(f\"Error during model generation: {e}\")\n",
    "            raise\n",
    "\n",
    "        # Parse the response if needed\n",
    "        parsed_response = StrOutputParser().parse(llm_response)\n",
    "\n",
    "        return parsed_response.content\n"
   ]
  },
  {
   "cell_type": "code",
   "execution_count": 10,
   "metadata": {},
   "outputs": [
    {
     "data": {
      "text/plain": [
       "\"You are an assistant for question-answering tasks. Use the following pieces of retrieved context to answer the question. If you don't know the answer, just say that you don't know. Use three sentences maximum and keep the answer concise.\\n\\nQuestion: {question} \\n\\nContext: {context} \\n\\nAnswer:\""
      ]
     },
     "execution_count": 10,
     "metadata": {},
     "output_type": "execute_result"
    }
   ],
   "source": [
    "PROMPT_TEMPLATE_NEW = \"\"\"You are an assistant for medical question-answering tasks. Use the following pieces of retrieved context to answer the question. Read the question with atmost care and follow the instructions given. Use three sentences maximum and keep the answer concise. And include the terms in the context while reasoning.\n",
    "\n",
    "QUESTION: {question} \n",
    "\n",
    "CONTEXT: {context} \n",
    "\n",
    "INSTRUCTIONS: {instructions}\n",
    "\n",
    "ANSWER:\"\"\"\n",
    "\n",
    "\"\"\"You are an assistant for question-answering tasks. Use the following pieces of retrieved context to answer the question. If you don't know the answer, just say that you don't know. Use three sentences maximum and keep the answer concise.\n",
    "\n",
    "Question: {question} \n",
    "\n",
    "Context: {context} \n",
    "\n",
    "Answer:\"\"\""
   ]
  },
  {
   "cell_type": "code",
   "execution_count": 11,
   "metadata": {},
   "outputs": [],
   "source": [
    "SYSTEM_PROMPT_TEMPLATE_CHAT_HISTORY = \"\"\"1. You are an assistant for medical question-answering tasks. You are given retrieved CONTEXT and INSTRUCTIONS in this System message, and the chat history attached. Use the following pieces of retrieved CONTEXT to answer the question in the chat and follow the INSTRUCTIONS given. Use three sentences maximum and keep the answer concise and include the terms in the context while reasoning.\n",
    "\n",
    "CONTEXT: {context} \n",
    "\n",
    "INSTRUCTIONS: {instructions}\n",
    "\n",
    "\"\"\"\n",
    "\n",
    "COMMON_INSTRUCTIONS = \"\"\"1. You are a highly knowledgeable medical assistant specializing in advising on surgical procedures. Your primary role is to help both doctors and patients decide whether a given surgery is appropriate be conducted as an inpatient or outpatient procedure,based on the context given. You provide detailed explanations to support your recommendations, ensuring that users make informed decisions.\n",
    "        2. You can save huge costs if you can correctly identify the case of Outpatient Surgery, so please keep this in mind. Suggest inpatient surgery only if the given context suggests that the patients are not suitable for outpatient surgery.\n",
    "        3. If the patients are healthy currently and comorbidities are well controlled or have medical clearence, it is a good sign for Outpatient surgery.\n",
    "        4. If you do not know the answer from the context you have, Please convey to user that you are not sure.\n",
    "        5. If the question is not in your domain, please remind user about your expertise.\"\"\""
   ]
  },
  {
   "cell_type": "code",
   "execution_count": 24,
   "metadata": {},
   "outputs": [],
   "source": [
    "class RAGChatBotNew:\n",
    "    def __init__(self, retriever, openai_api_key):\n",
    "        self.retriever = retriever\n",
    "        os.environ[\"OPENAI_API_KEY\"] = openai_api_key\n",
    "        self.chat_model = ChatOpenAI(model_name=\"gpt-4o\", temperature=0)\n",
    "        # self.prompt_template = hub.pull(\"rlm/rag-prompt\")\n",
    "        self.prompt_template = PROMPT_TEMPLATE_NEW\n",
    "        self.prompt_template_for_chat = SYSTEM_PROMPT_TEMPLATE_CHAT_HISTORY\n",
    "    def format_docs(self, docs):\n",
    "        return \"\\n\\n\".join(doc.page_content for doc in docs)\n",
    "\n",
    "    def generate_response(self, user_query):\n",
    "        # Retrieve documents relevant to the user query\n",
    "        relevant_docs = self.retriever.retrieve_documents(user_query)\n",
    "        relevant_context = self.format_docs(relevant_docs)\n",
    "        print(relevant_context)\n",
    "        # for relevant_doc in relevant_docs:\n",
    "            # print(relevant_doc.metadata['source'])\n",
    "            # print(relevant_doc.page_content)\n",
    "\n",
    "        user_query = user_query \n",
    "#         instructions = \"\"\"\n",
    "#         1. You are a highly knowledgeable and empathetic medical assistant specializing in advising on surgical procedures. Your primary role is to help both doctors and patients decide whether a given surgery is appropriate be conducted as an inpatient or outpatient procedure. You provide detailed explanations to support your recommendations, ensuring that users make informed decisions.\n",
    "#         2. If a user chats about some topic on medical device, but doesn't ask/chat about inpatient or outpatient surgery, gently ask the user if you should help him regarding the inpatient vs outpatient surgery\n",
    "#         3. If a user asks questions outside the medical domain, gently remind them that your expertise is focused on healthcare and surgical advice.\n",
    "#         4. Chat with the user using the given context. If the context is not at all relevant to the question asked. Tell your reasoning behind your answer and let the user know that you are not sure of the answer, due to lack of relevent context on your end to answer the question.\n",
    "#         5. If you feel that the data provided is insufficient to answer the question, gently ask the user about more information.\n",
    "#   \"\"\"\n",
    "        instructions = COMMON_INSTRUCTIONS\n",
    "        # Construct the input data for the chain\n",
    "        input_data = {\n",
    "            \"context\": relevant_context,\n",
    "            \"question\": user_query,\n",
    "            \"instructions\": instructions# Directly use the user query here\n",
    "            # \"GUIDELINES\": instructions\n",
    "        }\n",
    "        \n",
    "        # Create a prompt using the template\n",
    "        formatted_prompt = self.prompt_template.format(**input_data)\n",
    "        # print(formatted_prompt)\n",
    "        \n",
    "        # Generate a response using the LLM with invoke method\n",
    "        response = self.chat_model.invoke(formatted_prompt)\n",
    "        \n",
    "        return response.content\n",
    "\n",
    "    def generate_response_no_rag(self, question):\n",
    "        template = \"\"\"You are a highly knowledgeable and empathetic medical assistant specializing in advising on surgical procedures. Your primary role is to help both doctors and patients decide whether a given surgery is appropriate be conducted as an inpatient or outpatient procedure. You provide detailed explanations to support your recommendations, ensuring that users make informed decisions.\n",
    "\n",
    "Guidelines:\n",
    "1. **Focus on Medical Context:** Always center your responses around medical topics, particularly those related to surgical procedures and patient care settings.\n",
    "2. **Inquire When Necessary:** If you require more information to make an informed decision, politely ask the user specific questions about the surgery details, such as the type of surgery, patient health status, or any existing medical conditions.\n",
    "3. **Educational Approach:** Explain your suggestions clearly, using simple language that both healthcare professionals and patients can understand. Provide insights into the benefits and considerations of each option.\n",
    "4. **Boundary Setting:** If a user asks questions outside the medical domain, gently remind them that your expertise is focused on healthcare and surgical advice.\n",
    "\n",
    "Example Interaction:\n",
    "- **User Query:** \"I need to know if my knee surgery should be inpatient or outpatient.\"\n",
    "- **Response:** \"Knee surgeries can often be performed as outpatient procedures if the patient is in good health and the surgery is minimally invasive. However, if there are underlying health concerns or if a more complex procedure is needed, an inpatient setting might be safer. Could you provide more details about your specific situation?\"\n",
    "\n",
    "By adhering to these guidelines, you ensure that every interaction is informative, supportive, and within the scope of medical advisement.\n",
    "        \"\"\"\n",
    "        template1 = \"\"\"1. You are a highly knowledgeable medical assistant specializing in advising on surgical procedures. Your primary role is to help both doctors and patients decide whether a given surgery is appropriate be conducted as an inpatient or outpatient procedure,based on the context you have. You provide detailed explanations to support your recommendations, ensuring that users make informed decisions.\n",
    "        2. You can save huge costs if you can correctly identify the case of Outpatient Surgery, so please keep this in mind.\"\"\"\n",
    "        system_message_prompt = SystemMessagePromptTemplate.from_template(template1)\n",
    "        human_template = \"{text}\"\n",
    "        human_message_prompt = HumanMessagePromptTemplate.from_template(human_template)\n",
    "\n",
    "        chat_prompt = ChatPromptTemplate.from_messages(\n",
    "            [system_message_prompt, human_message_prompt]\n",
    "        )\n",
    "\n",
    "        msg = self.chat_model.invoke(\n",
    "            chat_prompt.format_prompt(\n",
    "                text=question,\n",
    "            ).to_messages()\n",
    "        )\n",
    "\n",
    "        return msg.content\n",
    "\n",
    "\n",
    "\n",
    "    def generate_answer_with_chat_context(self, messages):\n",
    "        \"\"\"\n",
    "        Generates a response with the last few messages and retrieved context using the chat model.\n",
    "\n",
    "        Args:\n",
    "            messages (list): List of dictionaries representing the conversation history.\n",
    "\n",
    "        Returns:\n",
    "            str: The generated response.\n",
    "        \"\"\"\n",
    "        # Extract the last 4 messages plus the current one\n",
    "        recent_messages = []\n",
    "        if len(messages)>5:\n",
    "            recent_messages = [messages[0]] + [messages[1]]\n",
    "        recent_messages = recent_messages+ messages[-5:]  # Last 5 messages (4 historical + current)\n",
    "\n",
    "        # Prepare input for retrieval (use only the content of messages, excluding the current one)\n",
    "        retrieval_input = \"\\n\".join(\n",
    "            f\"{message['role'].capitalize()}: {message['content']}\" for message in recent_messages[:-1]\n",
    "        )\n",
    "\n",
    "        # Attempt to retrieve external documents\n",
    "        try:\n",
    "            retrieved_docs = self.retriever.retrieve_documents(retrieval_input)\n",
    "            retrieved_context = self.format_docs(retrieved_docs)\n",
    "        except Exception as e:\n",
    "            retrieved_context = \"No additional information could be retrieved.\"\n",
    "            print(f\"Error during document retrieval: {e}\")\n",
    "\n",
    "        # Ensure retrieved context is a valid string\n",
    "        retrieved_context = str(retrieved_context)\n",
    "\n",
    "        # Add a system message with the retrieved context\n",
    "        input_data = {\n",
    "            \"context\": retrieved_context,\n",
    "            \"instructions\": COMMON_INSTRUCTIONS\n",
    "        }\n",
    "        system_message_prompt = self.prompt_template_for_chat.format(**input_data)\n",
    "        system_message = SystemMessage(content= system_message_prompt)\n",
    "        # system_message = SystemMessage(content=\"You are a Medical QA chat assistant and you are specialized in making decisions between Inpatient vs Outpatient surgeries.\")\n",
    "\n",
    "        # Convert recent conversation into LangChain message objects\n",
    "        formatted_recent_messages = []\n",
    "        for message in recent_messages:\n",
    "            if message[\"role\"] == \"user\":\n",
    "                formatted_recent_messages.append(HumanMessage(content=message[\"content\"]))\n",
    "            elif message[\"role\"] == \"ai\":\n",
    "                formatted_recent_messages.append(AIMessage(content=message[\"content\"]))\n",
    "            else:\n",
    "                raise ValueError(f\"Unexpected role: {message['role']}\")\n",
    "\n",
    "        # Combine system message and formatted recent messages\n",
    "        input_messages = [system_message] + formatted_recent_messages\n",
    "        #formatted_recent_messages.append(HumanMessage(content=\"Outpatient Surgery saves a lot of money. So never be conservative until otherwise inpatient surgery is ABSOULETELY necessary.\"))\n",
    "        # input_messages =  formatted_recent_messages\n",
    "        print(formatted_recent_messages)\n",
    "\n",
    "        # Generate the response using the chat model\n",
    "        try:\n",
    "            llm_response = self.chat_model.invoke(input_messages)\n",
    "        except Exception as e:\n",
    "            print(f\"Error during model generation: {e}\")\n",
    "            raise\n",
    "\n",
    "        # Parse the response if needed\n",
    "        parsed_response = StrOutputParser().parse(llm_response)\n",
    "\n",
    "        return parsed_response.content"
   ]
  },
  {
   "cell_type": "code",
   "execution_count": 13,
   "metadata": {},
   "outputs": [
    {
     "ename": "NameError",
     "evalue": "name 'chat_bot' is not defined",
     "output_type": "error",
     "traceback": [
      "\u001b[0;31m---------------------------------------------------------------------------\u001b[0m",
      "\u001b[0;31mNameError\u001b[0m                                 Traceback (most recent call last)",
      "Cell \u001b[0;32mIn[13], line 1\u001b[0m\n\u001b[0;32m----> 1\u001b[0m \u001b[38;5;28mprint\u001b[39m(\u001b[43mchat_bot\u001b[49m\u001b[38;5;241m.\u001b[39mgenerate_answer_with_chat_context(messages))\n",
      "\u001b[0;31mNameError\u001b[0m: name 'chat_bot' is not defined"
     ]
    }
   ],
   "source": [
    "print(chat_bot.generate_answer_with_chat_context(messages))"
   ]
  },
  {
   "cell_type": "code",
   "execution_count": 19,
   "metadata": {},
   "outputs": [],
   "source": [
    "# Configuration and setup\n",
    "persist_directory = './chroma_db'\n",
    "load_dotenv()\n",
    "openai_api_key = os.getenv(\"OPENAI_API_KEY\")\n",
    "\n",
    "# Initialize retriever and chatbot\n",
    "retriever = DocumentRetriever(persist_directory=persist_directory)\n",
    "chat_bot = RAGChatBotNew(retriever=retriever, openai_api_key=openai_api_key)"
   ]
  },
  {
   "cell_type": "code",
   "execution_count": 21,
   "metadata": {},
   "outputs": [],
   "source": [
    "messages = [\n",
    "    # System Message (Optional but Recommended)\n",
    "    # {\n",
    "    #     \"role\": \"system\", \n",
    "    #     \"content\": \"You are a helpful medical assistant specializing in surgical procedures and patient care.\"\n",
    "    # },\n",
    "    \n",
    "    # Initial User Message\n",
    "    {\n",
    "        \"role\": \"user\", \n",
    "        \"content\": \"“Patient is a 51 year old female who is planning to undergo laparoscopic myomectomy for fibroids. He has a history of hypertension, lupus, well-controlled asthma, and chronic renal insufficiency. She is compliant with her medications. There is a medical clearance note provided by her primary care provider. Help me choose inpatient vs outpatient surgery.”\"\n",
    "    }\n",
    "    ,\n",
    "    {\n",
    "        \"role\": \"ai\",\n",
    "        \"content\": \"Given the patient's history of hypertension, lupus, well-controlled asthma, and chronic renal insufficiency, along with the medical clearance provided, outpatient surgery could be considered if her comorbidities are well-managed and stable. However, due to the presence of multiple comorbidities, particularly chronic renal insufficiency, inpatient surgery might be more appropriate to ensure close monitoring and management of potential complications. The decision should be made in consultation with her healthcare team, considering her overall health status and the complexity of the procedure.\"\n",
    "    },\n",
    "    {\n",
    "        \"role\": \"user\",\n",
    "        \"content\": \"What do you suggest? Inpatient or Outpatient?\"\n",
    "        }\n",
    "   \n",
    "]\n"
   ]
  },
  {
   "cell_type": "code",
   "execution_count": 22,
   "metadata": {},
   "outputs": [
    {
     "name": "stdout",
     "output_type": "stream",
     "text": [
      "[HumanMessage(content='“Patient is a 51 year old female who is planning to undergo laparoscopic myomectomy for fibroids. He has a history of hypertension, lupus, well-controlled asthma, and chronic renal insufficiency. She is compliant with her medications. There is a medical clearance note provided by her primary care provider. Help me choose inpatient vs outpatient surgery.”', additional_kwargs={}, response_metadata={}), AIMessage(content=\"Given the patient's history of hypertension, lupus, well-controlled asthma, and chronic renal insufficiency, along with the medical clearance provided, outpatient surgery could be considered if her comorbidities are well-managed and stable. However, due to the presence of multiple comorbidities, particularly chronic renal insufficiency, inpatient surgery might be more appropriate to ensure close monitoring and management of potential complications. The decision should be made in consultation with her healthcare team, considering her overall health status and the complexity of the procedure.\", additional_kwargs={}, response_metadata={}), HumanMessage(content='What do you suggest? Inpatient or Outpatient?', additional_kwargs={}, response_metadata={})]\n",
      "Considering the patient's chronic renal insufficiency and multiple comorbidities, inpatient surgery is suggested to ensure appropriate monitoring and management of potential complications.\n"
     ]
    }
   ],
   "source": [
    "print(chat_bot.generate_answer_with_chat_context(messages))"
   ]
  },
  {
   "cell_type": "code",
   "execution_count": 18,
   "metadata": {},
   "outputs": [
    {
     "name": "stdout",
     "output_type": "stream",
     "text": [
      "content='Hello! My name is Bob. How can I assist you today?' additional_kwargs={} response_metadata={'token_usage': {'completion_tokens': 14, 'prompt_tokens': 27, 'total_tokens': 41, 'completion_tokens_details': {'accepted_prediction_tokens': 0, 'audio_tokens': 0, 'reasoning_tokens': 0, 'rejected_prediction_tokens': 0}, 'prompt_tokens_details': {'audio_tokens': 0, 'cached_tokens': 0}}, 'model_name': 'gpt-3.5-turbo', 'system_fingerprint': None, 'finish_reason': 'stop', 'logprobs': None} id='run-810bb112-af42-4fdf-9013-b0c41c084376-0'\n"
     ]
    }
   ],
   "source": [
    "from langchain_core.messages import HumanMessage, SystemMessage\n",
    "\n",
    "messages = [\n",
    "    SystemMessage(\n",
    "        content=\"You are a helpful assistant! Your name is Bob.\"\n",
    "    ),\n",
    "    HumanMessage(\n",
    "        content=\"What is your name?\"\n",
    "    )\n",
    "]\n",
    "\n",
    "# Instantiate a chat model and invoke it with the messages\n",
    "model = ChatOpenAI(model_name=\"gpt-3.5-turbo\")\n",
    "print(model.invoke(messages))"
   ]
  },
  {
   "cell_type": "markdown",
   "metadata": {},
   "source": [
    "Question 1"
   ]
  },
  {
   "cell_type": "code",
   "execution_count": 17,
   "metadata": {},
   "outputs": [
    {
     "ename": "NameError",
     "evalue": "name 'chat_bot' is not defined",
     "output_type": "error",
     "traceback": [
      "\u001b[0;31m---------------------------------------------------------------------------\u001b[0m",
      "\u001b[0;31mNameError\u001b[0m                                 Traceback (most recent call last)",
      "Cell \u001b[0;32mIn[17], line 2\u001b[0m\n\u001b[1;32m      1\u001b[0m user_query \u001b[38;5;241m=\u001b[39m \u001b[38;5;124m\"\"\"\u001b[39m\u001b[38;5;124mPatient is a 94 year old man who is scheduled for laparoscopic cholecystectomy. His BMI is 34. He has a history of end-stage renal disease on intermittent dialysis who receives it every Monday, Wednesday, and Saturday. In addition, he has a history of well-controlled hypertension and insulin-dependent diabetes.Should his surgery be inpatient or outpatient?\u001b[39m\u001b[38;5;124m\"\"\"\u001b[39m\n\u001b[0;32m----> 2\u001b[0m response \u001b[38;5;241m=\u001b[39m \u001b[43mchat_bot\u001b[49m\u001b[38;5;241m.\u001b[39mgenerate_response_no_rag(user_query)\n\u001b[1;32m      3\u001b[0m \u001b[38;5;28mprint\u001b[39m(response)\n",
      "\u001b[0;31mNameError\u001b[0m: name 'chat_bot' is not defined"
     ]
    }
   ],
   "source": [
    "user_query = \"\"\"Patient is a 94 year old man who is scheduled for laparoscopic cholecystectomy. His BMI is 34. He has a history of end-stage renal disease on intermittent dialysis who receives it every Monday, Wednesday, and Saturday. In addition, he has a history of well-controlled hypertension and insulin-dependent diabetes.Should his surgery be inpatient or outpatient?\"\"\"\n",
    "response = chat_bot.generate_response_no_rag(user_query)\n",
    "print(response)"
   ]
  },
  {
   "cell_type": "code",
   "execution_count": null,
   "metadata": {},
   "outputs": [
    {
     "name": "stdout",
     "output_type": "stream",
     "text": [
      "The patient should have inpatient surgery. The context indicates that patients on dialysis, like this patient with end-stage renal disease, have significantly increased odds for perioperative mortality and higher complication rates, making them unsuitable for outpatient procedures. Additionally, the patient's advanced age and multiple comorbidities further support the need for inpatient care to ensure close monitoring and management.\n"
     ]
    }
   ],
   "source": [
    "user_query = \"\"\"Patient is a 94 year old man who is scheduled for laparoscopic cholecystectomy. His BMI is 34. He has a history of end-stage renal disease on intermittent dialysis who receives it every Monday, Wednesday, and Saturday. In addition, he has a history of well-controlled hypertension and insulin-dependent diabetes.Should his surgery be inpatient or outpatient?\"\"\"\n",
    "response = chat_bot.generate_response(user_query)\n",
    "print(response)"
   ]
  },
  {
   "cell_type": "code",
   "execution_count": null,
   "metadata": {},
   "outputs": [
    {
     "name": "stdout",
     "output_type": "stream",
     "text": [
      "I am a medical assistant specializing in advising on surgical procedures, and the question about mathematics is outside my domain of expertise.\n"
     ]
    }
   ],
   "source": [
    "user_query = \"\"\"What is mathematics?\"\"\"\n",
    "response = chat_bot.generate_response(user_query)\n",
    "print(response)"
   ]
  },
  {
   "cell_type": "markdown",
   "metadata": {},
   "source": [
    "Question 2\n"
   ]
  },
  {
   "cell_type": "code",
   "execution_count": 95,
   "metadata": {},
   "outputs": [
    {
     "name": "stdout",
     "output_type": "stream",
     "text": [
      "In this scenario, the patient is a 54-year-old individual with a high BMI of 63, a history of obstructive sleep apnea, recent stroke, and is on clopidogrel, along with hypertension and hyperlipidemia. Given these factors, the patient is more appropriate for inpatient surgery. Here's why:\n",
      "\n",
      "1. **High BMI**: A BMI of 63 indicates morbid obesity, which increases the risk of complications during and after surgery, such as respiratory issues, wound healing problems, and cardiovascular stress.\n",
      "\n",
      "2. **Obstructive Sleep Apnea**: The patient's non-compliance with CPAP therapy further elevates the risk of perioperative respiratory complications, especially under anesthesia.\n",
      "\n",
      "3. **Recent Stroke**: Having had a stroke 6 months ago places the patient at a higher risk for perioperative cardiovascular events. Close monitoring in an inpatient setting is advisable.\n",
      "\n",
      "4. **Anticoagulation Therapy**: The use of clopidogrel, an antiplatelet medication, increases the risk of bleeding during and after surgery. This necessitates careful management and monitoring, which is more feasible in an inpatient setting.\n",
      "\n",
      "5. **Comorbidities**: The presence of hypertension and hyperlipidemia adds to the complexity of the patient's medical profile, requiring comprehensive perioperative management.\n",
      "\n",
      "Considering these factors, inpatient surgery is recommended to ensure the patient receives the necessary monitoring and care to manage potential complications effectively.\n"
     ]
    }
   ],
   "source": [
    "user_query = \"\"\"Patient is a 54 year old man who is scheduled for laparoscopic total hysterectomy. Her BMI is 63 and has a history of obstructive sleep apnea but not compliant with CPAP. She had a recent stroke 6 months ago and now on clopidogrel. In addition, she has a history of hypertension and hyperlipidemia, in which she takes amlodipine and a statin.\"\"\"\n",
    "user_query = user_query + \"Is the patient appropriate for inpatient or outpatient surgery?\"\n",
    "response = chat_bot.generate_response_no_rag(user_query)\n",
    "print(response)"
   ]
  },
  {
   "cell_type": "code",
   "execution_count": 109,
   "metadata": {},
   "outputs": [
    {
     "name": "stdout",
     "output_type": "stream",
     "text": [
      "You are an assistant for medical question-answering tasks. Use the following pieces of retrieved context to answer the question. Read the question with atmost care and follow the instructions given. Use three sentences maximum and keep the answer concise. And include the terms in the context while reasoning.\n",
      "\n",
      "Question: Patient is a 54 year old man who is scheduled for laparoscopic total hysterectomy. Her BMI is 63 and has a history of obstructive sleep apnea but not compliant with CPAP. She had a recent stroke 6 months ago and now on clopidogrel. In addition, she has a history of hypertension and hyperlipidemia, in which she takes amlodipine and a statin. Is the patient appropriate for inpatient or outpatient surgery? \n",
      "\n",
      "Context: should consider the invasiveness of the procedure, presence and severity of comorbidities, anesthetic\n",
      "technique, postoperative opioid requirements, and the surgical venue (e.g., free-standing ASC or\n",
      "hospital-based outpatient department) should the need for advanced treatment arise [4].\n",
      "It is recommended that patients with optimized comorbid conditions and BMI<40 kg/m2 could\n",
      "safely undergo surgery in an outpatient setting [4,7]. A study investigating the suitability of ambulatory\n",
      "surgery in obese patients undergoing hernia surgery concluded that there is no clear BMI cutoff for\n",
      "ambulatory surgery based on postoperative complication rates [26]. Gabriel et al. [27] suggest\n",
      "Fig. 3. Phenotypes for obstructive sleep apnea.\n",
      "O. Azizad, G.P. Joshi Best Practice & Research Clinical Anaesthesiology 37 (2023) 317 e330\n",
      "320\n",
      "\n",
      "Society of Anesthesia and Sleep Medicine; SBP = systolic blood pressure; STOP-BANG = Snoring, \n",
      "Tiredness, Observed apnea, blood Pressure, Body mass index, Age, Neck circumference and Gender; \n",
      "TIA = transient ischemic attack; TJC = The Joint Commission\n",
      "D\n",
      "riven by improvements in surgical and anes-\n",
      "thetic techniques as well as modifications in \n",
      "postoperative care and health care plan pay-\n",
      "ment patterns (eg, the addition of some procedures \n",
      "to Centers for Medicare & Medicaid Services [CMS] \n",
      "outpatient list), the growth in ambulatory surgery \n",
      "is likely to continue exponentially. 1 Procedures and \n",
      "patients previously deemed unsuitable for the outpa-\n",
      "tient setting are now increasingly being scheduled for \n",
      "ambulatory surgery.2 It is therefore incumbent upon \n",
      "the anesthesiologists who practice at these locations to \n",
      "have clearly defined patient selection criteria allowing \n",
      "for safe and efficient care of medically complex patients \n",
      "undergoing extensive surgical procedures with the\n",
      "\n",
      "Chronic Pain/Opioid Users\n",
      "KOP eligibility will be determined on a case-by-case basis as this will depend on the pain management plan (i.e. regional nerve block), surgical procedure/anatomy, patient expectations (i.e. existence of pain contract), social support, and other psychosocial factors.\n",
      "If given all the above issues and it is determined that patient will be high risk for admission for pain control, then surgery should be done in the main hospital.\n",
      "\n",
      "\n",
      "\n",
      "\n",
      "\n",
      "References:\n",
      "\n",
      "Practice Guidelines for the Perioperative Management of Patients with Obstructive Sleep Apnea: An Updated Report by the American Society of Anesthesiologists Task Force on Perioperative Management of Patients with Obstructive Sleep Apnea. Anesthesiology. 2014; 120: 268-286. \n",
      "\n",
      "Practice Guidelines for Perioperative Blood Management: An Updated Report by the American Society of Anesthesiologists Task Force on Perioperative Blood Management. Anesthesiology. 2015; 122: 241-275.\n",
      "\n",
      "adequate oxygen saturations while in an unstimulated environment, preferably asleep,\n",
      "and while breathing room air.22 Pain should also be well controlled without opioids.\n",
      "Patients with CPAP therapy should be advised to use CPAP any time they sleep,\n",
      "whether day or night.8 The use of at-home oxygen saturation monitoring has been\n",
      "considered in OSA patients, but in one study, severe postoperative desaturation at\n",
      "home occurred in one-quarter of patients, but did not result in any complications or\n",
      "required interventions.48\n",
      "SUMMARY\n",
      "Patients with morbid obesity and OSA can be at increased perioperative risk, and\n",
      "there is a large overlap between the 2 pathologic conditions. However, these patients\n",
      "can and do safely undergo ambulatory surgery provided appropriate precautions are\n",
      "taken. First, appropriate preoperative workup can ensure appropriate patient selec-\n",
      "tion, excluding patients with nonoptimized comorbidities. Intraoperatively, precau-\n",
      "\n",
      "ambulatory surgery. The outcomes data for patients with BMI between 40–50 kg/m2 are limited, and\n",
      "therefore, it is suggested that other factors such as obstructive sleep apnea are taken into consideration.\n",
      "Summary\n",
      "Recent evidence suggests that carefully selected morbidly obese patients can safely undergo surgery on\n",
      "an ambulatory basis. Individualized evaluations taking into account patient-related factors, surgery-related\n",
      "factors, and anesthesia-related factors should dictate which patients are appropriate for ambulatory\n",
      "surgery.\n",
      "Keywords\n",
      "ambulatory surgery, morbid obesity, obstructive sleep apnea, patient selection\n",
      "INTRODUCTION\n",
      "The number of surgical procedures being performed\n",
      "on an ambulatory basis has increased over the\n",
      "years, as it is associated with decreased cost and\n",
      "superior patient satisfaction [1\n",
      "&\n",
      "]. Advances in surgi-\n",
      "cal techniques and anesthetic management have\n",
      "allowed many operations that used to necessitate\n",
      "an overnight stay to be performed on an ambulatory\n",
      "basis [1\n",
      "& \n",
      "\n",
      "Instructions: 1. You are a highly knowledgeable medical assistant specializing in advising on surgical procedures. Your primary role is to help both doctors and patients decide whether a given surgery is appropriate be conducted as an inpatient or outpatient procedure,based on the context given. You provide detailed explanations to support your recommendations, ensuring that users make informed decisions.\n",
      "        2. You can save huge costs if you can correctly identify the case of Outpatient Surgery, so please keep this in mind. Suggest inpatient surgery only if the given context suggests that the patients are not suitable for outpatient surgery.\n",
      "        3. If the patients are healthy currently and comorbidities are well controlled or have medical clearence, it is a good sign for Outpatient surgery.\n",
      "        4. If you do not know the answer from the context you have, Please convey to user that you are not sure.\n",
      "        5. If the question is not in your domain, please remind user about your expertise.\n",
      "\n",
      "Answer:\n",
      "The patient is not appropriate for outpatient surgery due to several high-risk factors: a BMI of 63, a history of obstructive sleep apnea with non-compliance to CPAP, and a recent stroke for which she is on clopidogrel. The context suggests that patients with non-optimized comorbidities, such as morbid obesity and obstructive sleep apnea, should not undergo outpatient surgery. Therefore, inpatient surgery is recommended to ensure safe and efficient care.\n"
     ]
    }
   ],
   "source": [
    "user_query = \"\"\"Patient is a 54 year old man who is scheduled for laparoscopic total hysterectomy. Her BMI is 63 and has a history of obstructive sleep apnea but not compliant with CPAP. She had a recent stroke 6 months ago and now on clopidogrel. In addition, she has a history of hypertension and hyperlipidemia, in which she takes amlodipine and a statin.\"\"\"\n",
    "user_query = user_query + \" Is the patient appropriate for inpatient or outpatient surgery?\"\n",
    "response = chat_bot.generate_response(user_query)\n",
    "\n",
    "print(response)"
   ]
  },
  {
   "cell_type": "code",
   "execution_count": 62,
   "metadata": {},
   "outputs": [
    {
     "name": "stdout",
     "output_type": "stream",
     "text": [
      "In determining whether the arthroscopic rotator cuff repair should be conducted as an inpatient or outpatient procedure, several factors need to be considered:\n",
      "\n",
      "1. **Type of Surgery**: Arthroscopic rotator cuff repair is commonly performed as an outpatient procedure. It is minimally invasive, typically involves less postoperative pain, and has a quicker recovery time compared to open surgery.\n",
      "\n",
      "2. **Patient's Cardiac History**: The patient had a ventral septal defect repaired in childhood and has not experienced any recent cardiac issues. This suggests that the previous heart condition is well-managed and not currently impacting the patient's health. However, it is crucial to ensure that the patient's cardiac status is stable and that there are no residual effects that could complicate anesthesia or recovery.\n",
      "\n",
      "3. **Current Health and Activity Level**: The patient is an active soccer player, indicating a good level of physical fitness and cardiovascular health. This is a positive factor in favor of outpatient surgery, as it suggests the patient is likely to recover well and handle the procedure without complications.\n",
      "\n",
      "4. **Anesthesia Considerations**: The procedure typically requires general anesthesia or regional anesthesia, both of which are generally safe for outpatient settings, provided the patient is otherwise healthy and stable.\n",
      "\n",
      "5. **Postoperative Care and Support**: Outpatient surgery requires that the patient has adequate support at home for postoperative care, including pain management and assistance with daily activities during the initial recovery period.\n",
      "\n",
      "Given these considerations, it is reasonable to recommend that the arthroscopic rotator cuff repair be conducted as an outpatient procedure. The patient's stable cardiac history, current health status, and the nature of the surgery support this decision. However, it is essential to conduct a thorough preoperative evaluation, including a cardiac assessment if deemed necessary by the surgical and anesthesia teams, to ensure there are no unforeseen risks. This approach can help save costs while ensuring patient safety and optimal recovery.\n"
     ]
    }
   ],
   "source": [
    "user_query = \"\"\"Patient is a 26 year old female who is scheduled for an arthroscopic rotator cuff repair. As a child, he had congenital heart disease, which was described as a ventral septal defect in his heart. This was repaired in childhood. Today, he is an active soccer player and has not had any recent issues with his cardiac problems.\"\"\"\n",
    "response = chat_bot.generate_response_no_rag(user_query)\n",
    "print(response)"
   ]
  },
  {
   "cell_type": "code",
   "execution_count": 116,
   "metadata": {},
   "outputs": [
    {
     "name": "stdout",
     "output_type": "stream",
     "text": [
      "The patient, a 26-year-old female with a history of congenital heart disease that was repaired in childhood and who is currently an active soccer player without recent cardiac issues, appears to be a suitable candidate for outpatient surgery. The context suggests that if a patient's comorbidities are well controlled and they are healthy, outpatient surgery is appropriate. Given her current health status and lack of recent cardiac problems, outpatient surgery for the arthroscopic rotator cuff repair seems appropriate.\n"
     ]
    }
   ],
   "source": [
    "user_query = \"\"\"Patient is a 26 year old female who is scheduled for an arthroscopic rotator cuff repair. As a child, he had congenital heart disease, which was described as a ventral septal defect in his heart. This was repaired in childhood. Today, he is an active soccer player and has not had any recent issues with his cardiac problems.\"\"\"\n",
    "user_query = user_query + \"Is the patient appropriate for inpatient or outpatient surgery?\"\n",
    "response = chat_bot.generate_response(user_query)\n",
    "print(response)"
   ]
  },
  {
   "cell_type": "code",
   "execution_count": 106,
   "metadata": {},
   "outputs": [
    {
     "name": "stdout",
     "output_type": "stream",
     "text": [
      "You are a highly knowledgeable medical assistant specializing in advising on surgical procedures. Your primary role is to help both doctors and patients decide whether a given surgery should be conducted as an inpatient or outpatient procedure, based on the context provided. You provide detailed explanations to support your recommendations, ensuring that users make informed decisions.\n"
     ]
    }
   ],
   "source": [
    "user_query = \"What are the instructions given to you?\"\n",
    "response = chat_bot.generate_response(user_query)\n",
    "print(response)"
   ]
  },
  {
   "cell_type": "code",
   "execution_count": 39,
   "metadata": {},
   "outputs": [
    {
     "name": "stdout",
     "output_type": "stream",
     "text": [
      "Given the patient's medical history and current health status, the decision between an inpatient or outpatient ureteral stent placement procedure is crucial. Let's break down the considerations:\n",
      "\n",
      "1. **Ureteral Stent Placement Procedure:** This procedure involves placing a small tube (stent) in the ureter to help urine flow from the kidney to the bladder. It is commonly done to treat kidney stones or other urinary obstructions.\n",
      "\n",
      "2. **Patient's Age and BMI:** The patient is 83 years old with a BMI of 42, which may increase the risk of complications during and after the procedure, such as wound healing issues and infections.\n",
      "\n",
      "3. **Medical History:** The patient has a history of COPD, hypertension, obstructive sleep apnea, and coronary artery disease with a previous CABG. These conditions, especially COPD and coronary artery disease, may impact the patient's ability to tolerate the procedure and anesthesia.\n",
      "\n",
      "4. **Myocardial Infarction History:** The patient had a myocardial infarction 5 years ago but has not had any recent episodes of myocardial ischemia. However, any cardiac history raises concerns about the patient's cardiovascular stability during the procedure.\n",
      "\n",
      "Considering these factors, here is my recommendation:\n",
      "\n",
      "**Recommendation:** Given the patient's complex medical history, age, BMI, and the need for anesthesia during the procedure, it is advisable for the ureteral stent placement to be performed as an inpatient procedure. This setting allows for closer monitoring of the patient's vital signs, pain management, and potential complications that may arise postoperatively.\n",
      "\n",
      "Inpatient care provides a higher level of medical support and observation, which is crucial for a patient with multiple comorbidities like the one described. It ensures prompt intervention in case of any unforeseen issues and allows for a more controlled recovery process.\n",
      "\n",
      "If you have any further questions or need additional information, feel free to ask.\n"
     ]
    }
   ],
   "source": [
    "user_query = \"\"\"Patient is a 83 year old man who is scheduled for a ureteral stent placement for kidney stones. His BMI is 42. He has a history of well-controlled COPD, hypertension, obstructive sleep apnea on CPAP, and coronary artery disease. He had a myocardial infarction 5 years ago, in which he underwent a CABG. Since then, he has not had any episodes of myocardial ischemia.\"\"\"\n",
    "response = chat_bot.generate_response_no_rag(user_query)\n",
    "print(response)"
   ]
  },
  {
   "cell_type": "code",
   "execution_count": 115,
   "metadata": {},
   "outputs": [
    {
     "name": "stdout",
     "output_type": "stream",
     "text": [
      "The patient has a high BMI of 42 and a history of coronary artery disease with a past myocardial infarction, which are significant comorbidities. Although his conditions like COPD, hypertension, and obstructive sleep apnea are well-controlled, the presence of coronary artery disease and prior cardiac surgery are independent predictors of longer length of stay and mortality, suggesting a higher risk for outpatient surgery. Therefore, inpatient surgery is more appropriate for this patient to ensure careful monitoring and management of potential complications.\n"
     ]
    }
   ],
   "source": [
    "user_query = \"\"\"Patient is a 83 year old man who is scheduled for a ureteral stent placement for kidney stones. His BMI is 42. He has a history of well-controlled COPD, hypertension, obstructive sleep apnea on CPAP, and coronary artery disease. He had a myocardial infarction 5 years ago, in which he underwent a CABG. Since then, he has not had any episodes of myocardial ischemia.\"\"\"\n",
    "user_query = user_query + \"Is the patient appropriate for inpatient or outpatient surgery?\"\n",
    "response = chat_bot.generate_response(user_query)\n",
    "print(response)"
   ]
  },
  {
   "cell_type": "code",
   "execution_count": 41,
   "metadata": {},
   "outputs": [
    {
     "name": "stdout",
     "output_type": "stream",
     "text": [
      "Based on the patient's medical history and current health status, it is recommended that the total shoulder arthroplasty be conducted as an inpatient procedure. Here's why:\n",
      "\n",
      "1. **Complexity of the Surgery:** Total shoulder arthroplasty is a significant surgical procedure that involves replacing the damaged parts of the shoulder joint with artificial components. Given the patient's age and medical conditions, including ischemic cardiomyopathy and severe mitral stenosis, there may be an increased risk of complications during and after the surgery.\n",
      "\n",
      "2. **Cardiac Health Concerns:** The patient's history of ischemic cardiomyopathy, hypertension, and a low ejection fraction of 25% indicate a compromised heart function. An inpatient setting allows for closer monitoring of the patient's cardiac status throughout the surgery and during the initial recovery period.\n",
      "\n",
      "3. **Functional Limitations:** The patient's difficulty in walking up stairs without feeling short of breath suggests limited functional capacity. In an inpatient setting, the medical team can provide comprehensive post-operative care, including monitoring for any cardiac or respiratory issues that may arise.\n",
      "\n",
      "4. **Post-Operative Care:** Given the patient's age and medical complexity, it is essential to have access to immediate medical attention and specialized care in case of any unforeseen complications following the surgery. Inpatient care provides a higher level of support and monitoring during the critical post-operative phase.\n",
      "\n",
      "In summary, considering the patient's age, medical history, and functional limitations, an inpatient setting for the total shoulder arthroplasty would be the safest option to ensure optimal care and management of potential risks associated with the surgery. It is important to prioritize the patient's safety and well-being throughout the surgical process.\n"
     ]
    }
   ],
   "source": [
    "user_query = \"\"\"Patient is a 72 year old female who is scheduled for total shoulder arthroplasty. She has a history of ischemic cardiomyopathy and hypertension. Her last echo demonstrated an ejection of fraction of 25% with severe mitral stenosis. She is unable to walk up 2 flights of stairs without feeling short of breath.\"\"\"\n",
    "response = chat_bot.generate_response_no_rag(user_query)\n",
    "print(response)"
   ]
  },
  {
   "cell_type": "code",
   "execution_count": 117,
   "metadata": {},
   "outputs": [
    {
     "name": "stdout",
     "output_type": "stream",
     "text": [
      "The patient is not appropriate for outpatient surgery due to her severe mitral stenosis and symptomatic presentation, including dyspnea and poor exercise tolerance. The context specifies that patients with severe valve disease and symptoms such as dyspnea are not suitable candidates for ambulatory surgery. Therefore, inpatient surgery is recommended for this patient.\n"
     ]
    }
   ],
   "source": [
    "user_query = \"\"\"Patient is a 72 year old female who is scheduled for total shoulder arthroplasty. She has a history of ischemic cardiomyopathy and hypertension. Her last echo demonstrated an ejection of fraction of 25% with severe mitral stenosis. She is unable to walk up 2 flights of stairs without feeling short of breath.\"\"\"\n",
    "user_query = user_query + \" Is the patient appropriate for inpatient/main hospital or oupatient surgery?\"\n",
    "response = chat_bot.generate_response(user_query)\n",
    "print(response)"
   ]
  },
  {
   "cell_type": "code",
   "execution_count": 48,
   "metadata": {},
   "outputs": [
    {
     "name": "stdout",
     "output_type": "stream",
     "text": [
      "Based on the information provided, the patient is an 84-year-old male with multiple significant health issues, including a high ASA classification score of 4, severe COPD, end-stage renal disease, and a history of heavy smoking. Given these complex medical conditions, the decision between an inpatient or outpatient setting for the laparoscopic inguinal hernia repair is crucial.\n",
      "\n",
      "In this case, considering the patient's age, ASA score, severe COPD requiring continuous oxygen, and end-stage renal disease, it is highly recommended that the laparoscopic inguinal hernia repair be performed as an inpatient procedure. Here's why:\n",
      "\n",
      "1. **Monitoring and Management:** In an inpatient setting, the patient can be closely monitored post-surgery for any potential complications that may arise due to his multiple health issues. Continuous oxygen support and specialized care for COPD and renal disease can be provided effectively in a hospital environment.\n",
      "\n",
      "2. **Risk of Complications:** The patient's history of heavy smoking, severe COPD, and end-stage renal disease significantly increase the risk of post-operative complications. Being in an inpatient setting allows for immediate intervention and management of any complications that may arise.\n",
      "\n",
      "3. **Dialysis Placement:** Since the patient is awaiting dialysis placement, an inpatient setting ensures that he can receive the necessary care and evaluation for dialysis initiation or continuation post-surgery.\n",
      "\n",
      "4. **Recovery and Rehabilitation:** Inpatient care provides a structured environment for post-operative care, pain management, and rehabilitation, which is crucial for a patient with multiple comorbidities.\n",
      "\n",
      "Given the complexity of the patient's medical conditions and the need for close monitoring and specialized care, an inpatient setting for the laparoscopic inguinal hernia repair is the most appropriate choice in this scenario. It is essential to prioritize the patient's safety and well-being throughout the surgical process.\n"
     ]
    }
   ],
   "source": [
    "user_query = \"\"\"Patient is a 84 year old male with an ASA classification score of 4, who is scheduled for a laparoscopic inguinal hernia repair. He has smoked 100 pack years and has severe COPD requiring continuous oxygen. In addition, he has end-stage renal disease and is awaiting dialysis placement.\"\"\"\n",
    "response = chat_bot.generate_response_no_rag(user_query)\n",
    "print(response)"
   ]
  },
  {
   "cell_type": "code",
   "execution_count": 118,
   "metadata": {},
   "outputs": [
    {
     "name": "stdout",
     "output_type": "stream",
     "text": [
      "The patient, with an ASA classification score of 4, severe COPD requiring continuous oxygen, and end-stage renal disease, is at high risk for adverse outcomes after ambulatory surgery. COPD is identified as an independent risk factor, and patients with severely diminished respiratory function are not good candidates for outpatient surgery. Given these factors, inpatient surgery is recommended to ensure appropriate monitoring and management of potential complications.\n"
     ]
    }
   ],
   "source": [
    "user_query = \"\"\"Patient is a 84 year old male with an ASA classification score of 4, who is scheduled for a laparoscopic inguinal hernia repair. He has smoked 100 pack years and has severe COPD requiring continuous oxygen. In addition, he has end-stage renal disease and is awaiting dialysis placement.\"\"\"\n",
    "response = chat_bot.generate_response(user_query)\n",
    "print(response)"
   ]
  },
  {
   "cell_type": "code",
   "execution_count": 50,
   "metadata": {},
   "outputs": [
    {
     "name": "stdout",
     "output_type": "stream",
     "text": [
      "Given the patient's complex medical history, including a previous history of ventricular fibrillation, placement of an Automatic Implantable Cardioverter Defibrillator (AICD), chest pain with exertion, diabetes, hypertension, and obstructive sleep apnea, it is recommended that the total knee arthroplasty be performed as an inpatient procedure.\n",
      "\n",
      "Here's why:\n",
      "1. **Cardiac History:** The patient's history of ventricular fibrillation and AICD placement indicates a significant cardiac condition. An inpatient setting allows for closer monitoring of the patient's cardiac status during and after the surgery.\n",
      "   \n",
      "2. **Chest Pain:** The chest pain experienced by the patient with exertion could be related to underlying cardiac issues. In an inpatient setting, immediate access to cardiac monitoring and interventions is available if needed.\n",
      "\n",
      "3. **Multiple Comorbidities:** The presence of diabetes, hypertension, and obstructive sleep apnea increases the risk of complications during and after surgery. Inpatient care provides a higher level of post-operative monitoring and management of these conditions.\n",
      "\n",
      "4. **Mobility Concerns:** The patient's inability to walk up two flights of stairs without chest pain suggests limited functional capacity. Inpatient care allows for comprehensive rehabilitation services to aid in the recovery process.\n",
      "\n",
      "In summary, due to the patient's complex medical history and the need for close monitoring of cardiac and other comorbid conditions, it is advisable for the total knee arthroplasty to be performed as an inpatient procedure. This setting ensures the highest level of safety and care for the patient.\n"
     ]
    }
   ],
   "source": [
    "user_query =\"\"\"Patient is a 63 year old man who is planning to undergo total knee arthroplasty. He had a history of multiple episodes of ventricular fibrillation and eventually underwent placement of a AICD one year ago. He is unable to walk up two flights of stairs without feeling chest pain. In addition, he has a history of diabetes, hypertension, and obstructive sleep apnea.\n",
    "\"\"\"\n",
    "response = chat_bot.generate_response_no_rag(user_query)\n",
    "print(response)"
   ]
  },
  {
   "cell_type": "code",
   "execution_count": 82,
   "metadata": {},
   "outputs": [
    {
     "name": "stdout",
     "output_type": "stream",
     "text": [
      "The patient is more appropriate for inpatient surgery due to his history of major cardiac issues, including multiple episodes of ventricular fibrillation and the presence of an AICD, as well as his inability to walk up two flights of stairs without chest pain. The context suggests that patients with major cardiac or pulmonary disease are excluded from outpatient arthroplasty. Additionally, his history of diabetes, hypertension, and obstructive sleep apnea further supports the need for inpatient care to manage potential complications.\n"
     ]
    }
   ],
   "source": [
    "user_query =\"\"\"Patient is a 63 year old man who is planning to undergo total knee arthroplasty. He had a history of multiple episodes of ventricular fibrillation and eventually underwent placement of a AICD one year ago. He is unable to walk up two flights of stairs without feeling chest pain. In addition, he has a history of diabetes, hypertension, and obstructive sleep apnea.\n",
    "\"\"\"\n",
    "response = chat_bot.generate_response(user_query)\n",
    "print(response)"
   ]
  },
  {
   "cell_type": "code",
   "execution_count": 19,
   "metadata": {},
   "outputs": [
    {
     "name": "stdout",
     "output_type": "stream",
     "text": [
      "Based on the provided information, the patient's medical history includes hypertension, lupus, well-controlled asthma, and chronic renal insufficiency. It is important to consider these comorbidities when determining whether the laparoscopic myomectomy for fibroids should be conducted as an inpatient or outpatient procedure.\n",
      "\n",
      "In this case, due to the patient's medical history of multiple comorbidities, including hypertension, lupus, asthma, and chronic renal insufficiency, it is advisable to recommend that the laparoscopic myomectomy be conducted as an inpatient procedure rather than an outpatient procedure. \n",
      "\n",
      "Here are the reasons for this recommendation:\n",
      "\n",
      "1. **Medical History**: The patient's medical history includes chronic conditions such as hypertension, lupus, asthma, and chronic renal insufficiency. These conditions may increase the risk of complications during and after surgery. Being in an inpatient setting allows for closer monitoring of the patient's condition post-surgery, ensuring prompt intervention if any issues arise.\n",
      "\n",
      "2. **Compliance with Medications**: While the patient is compliant with her medications, the presence of multiple chronic conditions may require adjustments to her medication regimen before and after surgery. In an inpatient setting, healthcare providers can closely monitor and manage the patient's medications to ensure optimal control of her conditions during the perioperative period.\n",
      "\n",
      "3. **Medical Clearance**: Although the patient has a medical clearance note from her primary care provider, the complexity of her medical history suggests that a higher level of care and monitoring may be necessary, which is better provided in an inpatient setting.\n",
      "\n",
      "4. **Cost Consideration**: While outpatient procedures are generally less expensive than inpatient procedures, the potential risks and complications associated with the patient's medical history may outweigh the cost savings. In this case, the focus should be on ensuring the best possible outcome for the patient, even if it means higher costs associated with an inpatient stay.\n",
      "\n",
      "In conclusion, considering the patient's complex medical history and the need for close monitoring and management of her conditions, it is recommended that the laparoscopic myomectomy for fibroids be conducted as an inpatient procedure. This decision prioritizes the patient's safety and well-being, reducing the risk of potential complications and ensuring optimal postoperative care.\n"
     ]
    }
   ],
   "source": [
    "user_query =\"\"\"Patient is a 51 year old female who is planning to undergo laparoscopic myomectomy for fibroids. He has a history of hypertension, lupus, well-controlled asthma, and chronic renal insufficiency. She is compliant with her medications. There is a medical clearance note provided by her primary care provider.\n",
    "\"\"\"\n",
    "response = chat_bot.generate_response_no_rag(user_query)\n",
    "print(response)"
   ]
  },
  {
   "cell_type": "code",
   "execution_count": 120,
   "metadata": {},
   "outputs": [
    {
     "name": "stdout",
     "output_type": "stream",
     "text": [
      "The patient, a 51-year-old female with a history of hypertension, lupus, well-controlled asthma, and chronic renal insufficiency, has received medical clearance from her primary care provider, which is a positive indicator for outpatient surgery. While chronic renal insufficiency is a concern, the context suggests that with well-managed comorbidities and medical clearance, outpatient laparoscopic myomectomy could be considered. However, careful patient selection and optimization of her conditions are crucial to ensure safety in the ambulatory setting.\n"
     ]
    }
   ],
   "source": [
    "user_query =\"\"\"Patient is a 51 year old female who is planning to undergo laparoscopic myomectomy for fibroids. She has a history of hypertension, lupus, well-controlled asthma, and chronic renal insufficiency. She is compliant with her medications. There is a medical clearance note provided by her primary care provider.\n",
    "\"\"\"\n",
    "response = chat_bot.generate_response(user_query)\n",
    "print(response)"
   ]
  },
  {
   "cell_type": "code",
   "execution_count": 54,
   "metadata": {},
   "outputs": [
    {
     "name": "stdout",
     "output_type": "stream",
     "text": [
      "Given the complex medical history of the patient, it is advisable for the umbilical hernia repair to be performed as an inpatient procedure rather than outpatient. Here's why:\n",
      "\n",
      "1. **Multiple Comorbidities:** The patient's history of ischemic cardiomyopathy, cirrhosis, end-stage renal disease, pulmonary hypertension, aortic stenosis, and recent myocardial infarction with a drug-eluting stent places him at high risk for complications during and after surgery. These conditions may require close monitoring and specialized care that are more readily available in an inpatient setting.\n",
      "\n",
      "2. **Medication Management:** The patient is currently on dual anti-platelet therapy following the placement of a drug-eluting stent. In an inpatient setting, healthcare providers can closely monitor and manage the patient's medications to prevent any interactions or adverse effects during and after the surgery.\n",
      "\n",
      "3. **Postoperative Care:** Given the patient's compromised health status, he may require more intensive postoperative care, including monitoring for potential complications such as bleeding, infection, or cardiovascular events. In an inpatient setting, healthcare providers can promptly address any issues that may arise.\n",
      "\n",
      "4. **Risk Mitigation:** Performing the surgery in an inpatient setting allows for better coordination among the various specialists involved in the patient's care, including cardiologists, nephrologists, and surgeons. This multidisciplinary approach can help minimize the risks associated with the surgery and improve the patient's overall outcome.\n",
      "\n",
      "In conclusion, considering the patient's complex medical history and multiple comorbidities, it is recommended that the umbilical hernia repair be conducted as an inpatient procedure to ensure the highest level of safety and care for the patient.\n"
     ]
    }
   ],
   "source": [
    "user_query =\"\"\"Patient is a 64 year old man who is planning to undergo an umbilical hernia repair. He has a history of ischemic cardiomyopathy (with recent ejection fraction of 30%), cirrhosis with persistent ascites, end-stage renal disease on dialysis, moderate pulmonary hypertension, and moderate aortic stenosis. He had a myocardial infarction 5 months, in which is received a drug eluting stent to his LAD. He is now on dual anti-platelet therapy.\n",
    "\"\"\"\n",
    "response = chat_bot.generate_response_no_rag(user_query)\n",
    "print(response)"
   ]
  },
  {
   "cell_type": "code",
   "execution_count": 14,
   "metadata": {},
   "outputs": [
    {
     "name": "stdout",
     "output_type": "stream",
     "text": [
      "The patient is not appropriate for outpatient surgery due to his comorbidities, including moderate aortic stenosis and recent myocardial infarction with a drug-eluting stent. Patients with severe valve disease and recent myocardial infarction are excluded from outpatient surgery unless specific criteria are met. The patient's complex medical history suggests that inpatient surgery would be more appropriate for his safety and care.\n"
     ]
    }
   ],
   "source": [
    "user_query =\"\"\"Patient is a 64 year old man who is planning to undergo an umbilical hernia repair. He has a history of ischemic cardiomyopathy (with recent ejection fraction of 30%), cirrhosis with persistent ascites, end-stage renal disease on dialysis, moderate pulmonary hypertension, and moderate aortic stenosis. He had a myocardial infarction 5 months, in which is received a drug eluting stent to his LAD. He is now on dual anti-platelet therapy.\n",
    "\"\"\"\n",
    "response = chat_bot.generate_response(user_query)\n",
    "print(response)"
   ]
  },
  {
   "cell_type": "code",
   "execution_count": 18,
   "metadata": {},
   "outputs": [
    {
     "name": "stdout",
     "output_type": "stream",
     "text": [
      "Based on the information provided, it is recommended that the total thyroidectomy be conducted as an inpatient procedure rather than an outpatient procedure for the following reasons:\n",
      "\n",
      "1. Age: The patient is 98 years old, which may increase the risk of complications during and after surgery. Older patients tend to have weaker immune systems and may take longer to recover from surgical procedures. Being in an inpatient setting allows for closer monitoring and immediate intervention if any complications arise.\n",
      "\n",
      "2. Medical History: The patient has a history of hypertension, diabetes, hyperlipidemia, and depression. These comorbidities can increase the risk of surgical complications, such as poor wound healing, infections, and cardiovascular events. In an inpatient setting, the patient can receive specialized care and monitoring to manage these conditions effectively before, during, and after surgery.\n",
      "\n",
      "3. BMI and Hemoglobin A1c: The patient has a BMI of 27 and a hemoglobin A1c of 7.2, indicating that there may be underlying health issues that need to be addressed before surgery. A higher BMI can be associated with increased surgical risks, such as anesthesia complications and wound healing issues. Poorly controlled diabetes, as indicated by the hemoglobin A1c level, can also lead to postoperative complications. In an inpatient setting, healthcare providers can optimize the patient's health status before proceeding with surgery.\n",
      "\n",
      "Considering the patient's age, medical history, BMI, and hemoglobin A1c level, it is advisable to conduct the total thyroidectomy as an inpatient procedure to ensure the highest level of safety and care for the patient. This approach can help minimize the risk of complications, facilitate a smoother recovery process, and provide the necessary support for the patient's complex health needs.\n"
     ]
    }
   ],
   "source": [
    "user_query =\"\"\"Patient is a 98 year old female who is planning to undergo total thyroidectomy. He has a BMI of 27 and has a history of hypertension, diabetes, hyperlipidemia, and depression. His last hemoglobin A1c was 7.2.\n",
    "\"\"\"\n",
    "response = chat_bot.generate_response_no_rag(user_query)\n",
    "print(response)"
   ]
  },
  {
   "cell_type": "code",
   "execution_count": 122,
   "metadata": {},
   "outputs": [
    {
     "name": "stdout",
     "output_type": "stream",
     "text": [
      "The patient, a 98-year-old female with a history of hypertension, diabetes, hyperlipidemia, and depression, has a hemoglobin A1c of 7.2, indicating moderate glycemic control. The context suggests that outpatient surgery is generally appropriate for patients with good long-term blood glucose control unless there are significant complications of hyperglycemia, which are not indicated here. Therefore, based on the provided context and the patient's current health status, outpatient surgery could be considered appropriate.\n"
     ]
    }
   ],
   "source": [
    "user_query =\"\"\"Patient is a 98 year old female who is planning to undergo total thyroidectomy. He has a BMI of 27 and has a history of hypertension, diabetes, hyperlipidemia, and depression(but he is healthy now without them). His last hemoglobin A1c was 7.2.\n",
    "\"\"\"\n",
    "user_query = user_query + \"Is the patient appropriate for inpatient or outpatient surgery?\"\n",
    "response = chat_bot.generate_response(user_query)\n",
    "print(response)"
   ]
  },
  {
   "cell_type": "code",
   "execution_count": 121,
   "metadata": {},
   "outputs": [
    {
     "name": "stdout",
     "output_type": "stream",
     "text": [
      "Based on the context provided, a BMI of 27.0 falls within the overweight category, but BMI alone should not be the sole determining factor for surgical procedure selection. It is important to consider other factors such as the type of surgical procedure, comorbidities, and functional capacity. Since the context does not provide specific information about these other factors, I am not sure whether outpatient surgery is appropriate in this case.\n"
     ]
    }
   ],
   "source": [
    "user_query =\"My BMI is 27.0. Let me know if you need more info.\"\n",
    "response = chat_bot.generate_response(user_query)\n",
    "print(response)"
   ]
  },
  {
   "cell_type": "code",
   "execution_count": null,
   "metadata": {},
   "outputs": [
    {
     "name": "stdout",
     "output_type": "stream",
     "text": [
      "Based on the information provided, the patient is an 84-year-old male with multiple significant health issues, including a high ASA classification score of 4, severe COPD, end-stage renal disease, and a history of heavy smoking. Given these complex medical conditions, the decision between an inpatient or outpatient setting for the laparoscopic inguinal hernia repair is crucial.\n",
      "\n",
      "In this case, considering the patient's age, ASA score, severe COPD requiring continuous oxygen, and end-stage renal disease, it is highly recommended that the laparoscopic inguinal hernia repair be performed as an inpatient procedure. Here's why:\n",
      "\n",
      "1. **Monitoring and Management:** In an inpatient setting, the patient can be closely monitored post-surgery for any potential complications that may arise due to his multiple health issues. Continuous oxygen support and specialized care for COPD and renal disease can be provided effectively in a hospital environment.\n",
      "\n",
      "2. **Risk of Complications:** The patient's history of heavy smoking, severe COPD, and end-stage renal disease significantly increase the risk of post-operative complications. Being in an inpatient setting allows for immediate intervention and management of any complications that may arise.\n",
      "\n",
      "3. **Dialysis Placement:** Since the patient is awaiting dialysis placement, an inpatient setting ensures that he can receive the necessary care and evaluation for dialysis initiation or continuation post-surgery.\n",
      "\n",
      "4. **Recovery and Rehabilitation:** Inpatient care provides a structured environment for post-operative care, pain management, and rehabilitation, which is crucial for a patient with multiple comorbidities.\n",
      "\n",
      "Given the complexity of the patient's medical conditions and the need for close monitoring and specialized care, an inpatient setting for the laparoscopic inguinal hernia repair is the most appropriate choice in this scenario. It is essential to prioritize the patient's safety and well-being throughout the surgical process.\n"
     ]
    }
   ],
   "source": [
    "user_query = \"\"\"Patient is a 84 year old male with an ASA classification score of 4, who is scheduled for a laparoscopic inguinal hernia repair. He has smoked 100 pack years and has severe COPD requiring continuous oxygen. In addition, he has end-stage renal disease and is awaiting dialysis placement.\"\"\"\n",
    "response = chat_bot.generate_response_no_rag(user_query)\n",
    "print(response)"
   ]
  }
 ],
 "metadata": {
  "kernelspec": {
   "display_name": "medqa-backend-NelR6pjv-py3.11",
   "language": "python",
   "name": "python3"
  },
  "language_info": {
   "codemirror_mode": {
    "name": "ipython",
    "version": 3
   },
   "file_extension": ".py",
   "mimetype": "text/x-python",
   "name": "python",
   "nbconvert_exporter": "python",
   "pygments_lexer": "ipython3",
   "version": "3.11.5"
  }
 },
 "nbformat": 4,
 "nbformat_minor": 2
}
