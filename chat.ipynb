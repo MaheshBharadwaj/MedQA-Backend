{
 "cells": [
  {
   "cell_type": "code",
   "execution_count": 5,
   "metadata": {},
   "outputs": [],
   "source": [
    "import os\n",
    "from langchain.chat_models import ChatOpenAI\n",
    "from langchain.prompts import ChatPromptTemplate, SystemMessagePromptTemplate, HumanMessagePromptTemplate\n",
    "from dotenv import load_dotenv\n",
    "from langchain.vectorstores import Chroma\n",
    "from langchain_huggingface.embeddings import HuggingFaceEmbeddings\n",
    "from langchain.prompts import ChatPromptTemplate\n",
    "from langchain_openai import ChatOpenAI\n",
    "from langchain.vectorstores import Chroma\n",
    "from langchain_huggingface.embeddings import HuggingFaceEmbeddings\n",
    "from langchain import hub\n",
    "from langchain_openai import ChatOpenAI\n",
    "from langchain.prompts.chat import ChatPromptTemplate\n",
    "from langchain.schema import StrOutputParser\n",
    "from langchain.schema.runnable import RunnablePassthrough\n",
    "import warnings"
   ]
  },
  {
   "cell_type": "code",
   "execution_count": 6,
   "metadata": {},
   "outputs": [],
   "source": [
    "# Suppress all warnings\n",
    "warnings.filterwarnings('ignore')\n",
    "\n",
    "# Example usage\n",
    "def example_function():\n",
    "    warnings.warn(\"This is a warning message\", UserWarning)\n",
    "\n",
    "example_function()  # This warning will not be displayed"
   ]
  },
  {
   "cell_type": "code",
   "execution_count": 7,
   "metadata": {},
   "outputs": [],
   "source": [
    "class DocumentRetriever:\n",
    "    def __init__(self, persist_directory):\n",
    "        self.persist_directory = persist_directory\n",
    "        self.embeddings = HuggingFaceEmbeddings(model_name=\"all-MiniLM-L6-v2\", model_kwargs={'device': 'mps'})\n",
    "        self.vector_db = Chroma(persist_directory=self.persist_directory, embedding_function=self.embeddings)\n",
    "\n",
    "    def retrieve_documents(self, query, top_k=5):\n",
    "        # Retrieve top_k relevant document chunks based on the query\n",
    "        return self.vector_db.similarity_search(query, k=top_k)"
   ]
  },
  {
   "cell_type": "code",
   "execution_count": 13,
   "metadata": {},
   "outputs": [],
   "source": [
    "\n",
    "\n",
    "# class DocumentRetriever:\n",
    "#     def __init__(self, persist_directory):\n",
    "#         self.persist_directory = persist_directory\n",
    "#         self.embeddings = HuggingFaceEmbeddings(model_name=\"all-MiniLM-L6-v2\", model_kwargs={'device': 'mps'})\n",
    "#         self.vector_db = Chroma(persist_directory=self.persist_directory, embedding_function=self.embeddings)\n",
    "#         self.retriever = self.vector_db.as_retriever()\n",
    "\n",
    "#     def retrieve_documents(self, query, top_k=5):\n",
    "#         # Retrieve top_k relevant document chunks based on the query\n",
    "#         return self.retriever.similarity_search(query, k=top_k)"
   ]
  },
  {
   "cell_type": "code",
   "execution_count": 48,
   "metadata": {},
   "outputs": [],
   "source": [
    "class RAGChatBot:\n",
    "    def __init__(self, retriever, openai_api_key):\n",
    "        self.retriever = retriever\n",
    "        os.environ[\"OPENAI_API_KEY\"] = openai_api_key\n",
    "        self.chat_model = ChatOpenAI(model_name=\"gpt-3.5-turbo\", temperature=0)\n",
    "        self.prompt_template = hub.pull(\"rlm/rag-prompt\")\n",
    "\n",
    "    def format_docs(self, docs):\n",
    "        return \"\\n\\n\".join(doc.page_content for doc in docs)\n",
    "\n",
    "    def generate_response(self, user_query):\n",
    "        # Retrieve documents relevant to the user query\n",
    "        relevant_docs = self.retriever.retrieve_documents(user_query)\n",
    "        relevant_context = self.format_docs(relevant_docs)\n",
    "        # for relevant_doc in relevant_docs:\n",
    "            # print(relevant_doc.metadata['source'])\n",
    "            # print(relevant_doc.page_content)\n",
    "\n",
    "        user_query = user_query + \" Is the patient appropriate for inpatient or outpatient surgery? Why?\"\n",
    "        instructions = \"\"\"\n",
    "        1. You are a highly knowledgeable and empathetic medical assistant specializing in advising on surgical procedures. Your primary role is to help both doctors and patients decide whether a given surgery is appropriate be conducted as an inpatient or outpatient procedure. You provide detailed explanations to support your recommendations, ensuring that users make informed decisions.\n",
    "        2. If a user chats about some topic on medical device, but doesn't ask/chat about inpatient or outpatient surgery, gently ask the user if you should help him regarding the inpatient vs outpatient surgery\n",
    "        3. If a user asks questions outside the medical domain, gently remind them that your expertise is focused on healthcare and surgical advice.\n",
    "        4. Chat with the user using the given context. If the context is not at all relevant to the question asked. Tell your reasoning behind your answer and let the user know that you are not sure of the answer, due to lack of relevent context on your end to answer the question.\n",
    "        5. If you feel that the data provided is insufficient to answer the question, gently ask the user about more information.\n",
    "  \"\"\"\n",
    "        # Construct the input data for the chain\n",
    "        input_data = {\n",
    "            \"context\": relevant_context,\n",
    "            \"question\": user_query,  # Directly use the user query here\n",
    "            \"GUIDELINES\": instructions\n",
    "        }\n",
    "        \n",
    "        # Create a prompt using the template\n",
    "        formatted_prompt = self.prompt_template.format(**input_data)\n",
    "        \n",
    "        # Generate a response using the LLM with invoke method\n",
    "        response = self.chat_model.invoke(formatted_prompt)\n",
    "        \n",
    "        return response.content\n",
    "\n",
    "    def generate_response_no_rag(self, question):\n",
    "        template = \"\"\"You are a highly knowledgeable and empathetic medical assistant specializing in advising on surgical procedures. Your primary role is to help both doctors and patients decide whether a given surgery is appropriate be conducted as an inpatient or outpatient procedure. You provide detailed explanations to support your recommendations, ensuring that users make informed decisions.\n",
    "\n",
    "Guidelines:\n",
    "1. **Focus on Medical Context:** Always center your responses around medical topics, particularly those related to surgical procedures and patient care settings.\n",
    "2. **Inquire When Necessary:** If you require more information to make an informed decision, politely ask the user specific questions about the surgery details, such as the type of surgery, patient health status, or any existing medical conditions.\n",
    "3. **Educational Approach:** Explain your suggestions clearly, using simple language that both healthcare professionals and patients can understand. Provide insights into the benefits and considerations of each option.\n",
    "4. **Boundary Setting:** If a user asks questions outside the medical domain, gently remind them that your expertise is focused on healthcare and surgical advice.\n",
    "\n",
    "Example Interaction:\n",
    "- **User Query:** \"I need to know if my knee surgery should be inpatient or outpatient.\"\n",
    "- **Response:** \"Knee surgeries can often be performed as outpatient procedures if the patient is in good health and the surgery is minimally invasive. However, if there are underlying health concerns or if a more complex procedure is needed, an inpatient setting might be safer. Could you provide more details about your specific situation?\"\n",
    "\n",
    "By adhering to these guidelines, you ensure that every interaction is informative, supportive, and within the scope of medical advisement.\n",
    "        \"\"\"\n",
    "        system_message_prompt = SystemMessagePromptTemplate.from_template(template)\n",
    "        human_template = \"{text}\"\n",
    "        human_message_prompt = HumanMessagePromptTemplate.from_template(human_template)\n",
    "\n",
    "        chat_prompt = ChatPromptTemplate.from_messages(\n",
    "            [system_message_prompt, human_message_prompt]\n",
    "        )\n",
    "\n",
    "        msg = self.chat_model.invoke(\n",
    "            chat_prompt.format_prompt(\n",
    "                text=question,\n",
    "            ).to_messages()\n",
    "        )\n",
    "\n",
    "        return msg.content\n",
    "\n",
    "    # def generate_answer_with_chat_context(self, messages):\n",
    "    #     template = \"\"\"Below is the condensed conversation between you and a patient. You are a virtual assistant for a Medical Q and A app. \n",
    "    #     {context}\n",
    "\n",
    "    #     Question: {question}\n",
    "    #     \"\"\"\n",
    "\n",
    "    #     prompt = ChatPromptTemplate.from_template(template)\n",
    "\n",
    "    #     chain = (\n",
    "    #         {\n",
    "    #             \"context\": itemgetter(\"messages\")\n",
    "    #             | self.retriever\n",
    "    #             | self.format_docs,\n",
    "    #             \"question\": itemgetter(\"question\"),\n",
    "    #         }\n",
    "    #         | prompt\n",
    "    #         | self.chat_model\n",
    "    #         | StrOutputParser()\n",
    "    #     )\n",
    "\n",
    "    #     return chain.invoke(\n",
    "    #         {\n",
    "    #             \"messages\": str(messages[:-1]),\n",
    "    #             \"question\": str(messages[-1][\"content\"]),\n",
    "    #             \"language\": \"english\",\n",
    "    #         }\n",
    "    #     )\n"
   ]
  },
  {
   "cell_type": "code",
   "execution_count": 49,
   "metadata": {},
   "outputs": [],
   "source": [
    "# Configuration and setup\n",
    "persist_directory = './chroma_db'\n",
    "load_dotenv()\n",
    "openai_api_key = os.getenv(\"OPENAI_API_KEY\")\n",
    "\n",
    "# Initialize retriever and chatbot\n",
    "retriever = DocumentRetriever(persist_directory=persist_directory)\n",
    "chat_bot = RAGChatBot(retriever=retriever, openai_api_key=openai_api_key)"
   ]
  },
  {
   "cell_type": "markdown",
   "metadata": {},
   "source": [
    "Question 1"
   ]
  },
  {
   "cell_type": "code",
   "execution_count": null,
   "metadata": {},
   "outputs": [],
   "source": [
    "user_query = \"\"\"Patient is a 94 year old man who is scheduled for laparoscopic cholecystectomy. His BMI is 34. He has a history of end-stage renal disease on intermittent dialysis who receives it every Monday, Wednesday, and Saturday. In addition, he has a history of well-controlled hypertension and insulin-dependent diabetes.Should his surgery be inpatient or outpatient?\"\"\"\n",
    "response = chat_bot.generate_response_no_rag(user_query)\n",
    "print(response)"
   ]
  },
  {
   "cell_type": "code",
   "execution_count": 50,
   "metadata": {},
   "outputs": [
    {
     "name": "stdout",
     "output_type": "stream",
     "text": [
      "The patient with a history of end-stage renal disease on intermittent dialysis should have inpatient surgery due to the higher complication rates associated with dialysis. Careful patient selection is crucial for patients with ESRD to ensure safe management in the ambulatory setting. Optimization of comorbid conditions and close monitoring are essential for these patients undergoing surgery.\n"
     ]
    }
   ],
   "source": [
    "user_query = \"\"\"Patient is a 94 year old man who is scheduled for laparoscopic cholecystectomy. His BMI is 34. He has a history of end-stage renal disease on intermittent dialysis who receives it every Monday, Wednesday, and Saturday. In addition, he has a history of well-controlled hypertension and insulin-dependent diabetes.Should his surgery be inpatient or outpatient?\"\"\"\n",
    "response = chat_bot.generate_response(user_query)\n",
    "print(response)"
   ]
  },
  {
   "cell_type": "code",
   "execution_count": 35,
   "metadata": {},
   "outputs": [
    {
     "name": "stdout",
     "output_type": "stream",
     "text": [
      "I don't know.\n"
     ]
    }
   ],
   "source": [
    "# user_query = \"\"\"hello can you help me with math?\"\"\"\n",
    "# response = chat_bot.generate_response(user_query)\n",
    "# print(response)"
   ]
  },
  {
   "cell_type": "markdown",
   "metadata": {},
   "source": [
    "Question 2\n"
   ]
  },
  {
   "cell_type": "code",
   "execution_count": 33,
   "metadata": {},
   "outputs": [
    {
     "name": "stdout",
     "output_type": "stream",
     "text": [
      "Based on the patient's medical history and current health status, the decision between an inpatient or outpatient laparoscopic total hysterectomy should be carefully considered.\n",
      "\n",
      "Given the patient's BMI of 63, history of obstructive sleep apnea, recent stroke, and current use of clopidogrel, there are several factors that suggest an inpatient procedure may be more appropriate in this case. Here's why:\n",
      "\n",
      "1. **Obstructive Sleep Apnea (OSA):** Patients with OSA have an increased risk of complications during and after surgery, especially when under sedation. In an inpatient setting, the patient can be closely monitored postoperatively for any signs of respiratory distress.\n",
      "\n",
      "2. **Recent Stroke and Clopidogrel Use:** The patient's history of stroke and current use of clopidogrel, an antiplatelet medication, increase the risk of bleeding during surgery. In an inpatient setting, the medical team can closely monitor the patient's bleeding parameters and manage any potential complications effectively.\n",
      "\n",
      "3. **Hypertension and Hyperlipidemia:** The patient's history of hypertension and hyperlipidemia, for which she takes amlodipine and a statin, may require careful monitoring of blood pressure and cholesterol levels postoperatively. This can be better achieved in an inpatient setting where continuous monitoring is available.\n",
      "\n",
      "Considering these factors, an inpatient laparoscopic total hysterectomy would provide a safer environment for the patient, allowing for close monitoring of vital signs, respiratory status, bleeding parameters, and overall recovery. It would also ensure prompt management of any potential complications that may arise due to her complex medical history.\n",
      "\n",
      "It's important to discuss these considerations with the patient's healthcare team to make an informed decision tailored to her specific needs and safety.\n"
     ]
    }
   ],
   "source": [
    "user_query = \"\"\"Patient is a 54 year old man who is scheduled for laparoscopic total hysterectomy. Her BMI is 63 and has a history of obstructive sleep apnea but not compliant with CPAP. She had a recent stroke 6 months ago and now on clopidogrel. In addition, she has a history of hypertension and hyperlipidemia, in which she takes amlodipine and a statin.\"\"\"\n",
    "response = chat_bot.generate_response_no_rag(user_query)\n",
    "print(response)"
   ]
  },
  {
   "cell_type": "code",
   "execution_count": 51,
   "metadata": {},
   "outputs": [
    {
     "name": "stdout",
     "output_type": "stream",
     "text": [
      "The patient with a BMI of 63, history of obstructive sleep apnea, recent stroke, and on clopidogrel may not be appropriate for outpatient surgery due to the increased risk of perioperative complications associated with obesity and OSA. The presence of comorbidities and the need for advanced treatment in case of complications should be considered when deciding on the appropriate surgical venue. Further assessment of the patient's overall health and risk factors is necessary to determine the safest approach for the surgery.\n"
     ]
    }
   ],
   "source": [
    "user_query = \"\"\"Patient is a 54 year old man who is scheduled for laparoscopic total hysterectomy. Her BMI is 63 and has a history of obstructive sleep apnea but not compliant with CPAP. She had a recent stroke 6 months ago and now on clopidogrel. In addition, she has a history of hypertension and hyperlipidemia, in which she takes amlodipine and a statin.\"\"\"\n",
    "response = chat_bot.generate_response(user_query)\n",
    "\n",
    "print(response)"
   ]
  },
  {
   "cell_type": "code",
   "execution_count": 37,
   "metadata": {},
   "outputs": [
    {
     "name": "stdout",
     "output_type": "stream",
     "text": [
      "Given the patient's history of congenital heart disease with a ventral septal defect repair in childhood, it is crucial to consider this condition when deciding whether the arthroscopic rotator cuff repair should be an inpatient or outpatient procedure.\n",
      "\n",
      "In this case, due to the patient's past cardiac history, it would be advisable to recommend an inpatient procedure for the arthroscopic rotator cuff repair. This choice allows for closer monitoring of the patient's vital signs, including heart function, during and after the surgery. Inpatient care provides immediate access to medical professionals and resources in case any unforeseen complications arise, especially considering the patient's prior heart condition.\n",
      "\n",
      "Additionally, an inpatient setting ensures that the patient can receive appropriate post-operative care and monitoring to address any potential cardiac concerns that may arise due to the stress of surgery and anesthesia.\n",
      "\n",
      "It is essential to prioritize the patient's safety and well-being, and in this situation, an inpatient procedure would offer the necessary support and monitoring to manage any potential risks associated with the patient's cardiac history.\n"
     ]
    }
   ],
   "source": [
    "user_query = \"\"\"Patient is a 26 year old female who is scheduled for an arthroscopic rotator cuff repair. As a child, he had congenital heart disease, which was described as a ventral septal defect in his heart. This was repaired in childhood. Today, he is an active soccer player and has not had any recent issues with his cardiac problems.\"\"\"\n",
    "response = chat_bot.generate_response_no_rag(user_query)\n",
    "print(response)"
   ]
  },
  {
   "cell_type": "code",
   "execution_count": 52,
   "metadata": {},
   "outputs": [
    {
     "name": "stdout",
     "output_type": "stream",
     "text": [
      "The patient is not appropriate for outpatient surgery due to a history of congenital heart disease and repaired ventral septal defect. The patient may have a left ventricle ejection fraction (LVEF) of <35% or New York Heart Association class >II, making them unsuitable for outpatient surgery. Inadequate support and lack of personnel in an outpatient setting may not be equipped to manage potential perioperative complications related to cardiac issues.\n"
     ]
    }
   ],
   "source": [
    "user_query = \"\"\"Patient is a 26 year old female who is scheduled for an arthroscopic rotator cuff repair. As a child, he had congenital heart disease, which was described as a ventral septal defect in his heart. This was repaired in childhood. Today, he is an active soccer player and has not had any recent issues with his cardiac problems.\"\"\"\n",
    "response = chat_bot.generate_response(user_query)\n",
    "print(response)"
   ]
  },
  {
   "cell_type": "code",
   "execution_count": 39,
   "metadata": {},
   "outputs": [
    {
     "name": "stdout",
     "output_type": "stream",
     "text": [
      "Given the patient's medical history and current health status, the decision between an inpatient or outpatient ureteral stent placement procedure is crucial. Let's break down the considerations:\n",
      "\n",
      "1. **Ureteral Stent Placement Procedure:** This procedure involves placing a small tube (stent) in the ureter to help urine flow from the kidney to the bladder. It is commonly done to treat kidney stones or other urinary obstructions.\n",
      "\n",
      "2. **Patient's Age and BMI:** The patient is 83 years old with a BMI of 42, which may increase the risk of complications during and after the procedure, such as wound healing issues and infections.\n",
      "\n",
      "3. **Medical History:** The patient has a history of COPD, hypertension, obstructive sleep apnea, and coronary artery disease with a previous CABG. These conditions, especially COPD and coronary artery disease, may impact the patient's ability to tolerate the procedure and anesthesia.\n",
      "\n",
      "4. **Myocardial Infarction History:** The patient had a myocardial infarction 5 years ago but has not had any recent episodes of myocardial ischemia. However, any cardiac history raises concerns about the patient's cardiovascular stability during the procedure.\n",
      "\n",
      "Considering these factors, here is my recommendation:\n",
      "\n",
      "**Recommendation:** Given the patient's complex medical history, age, BMI, and the need for anesthesia during the procedure, it is advisable for the ureteral stent placement to be performed as an inpatient procedure. This setting allows for closer monitoring of the patient's vital signs, pain management, and potential complications that may arise postoperatively.\n",
      "\n",
      "Inpatient care provides a higher level of medical support and observation, which is crucial for a patient with multiple comorbidities like the one described. It ensures prompt intervention in case of any unforeseen issues and allows for a more controlled recovery process.\n",
      "\n",
      "If you have any further questions or need additional information, feel free to ask.\n"
     ]
    }
   ],
   "source": [
    "user_query = \"\"\"Patient is a 83 year old man who is scheduled for a ureteral stent placement for kidney stones. His BMI is 42. He has a history of well-controlled COPD, hypertension, obstructive sleep apnea on CPAP, and coronary artery disease. He had a myocardial infarction 5 years ago, in which he underwent a CABG. Since then, he has not had any episodes of myocardial ischemia.\"\"\"\n",
    "response = chat_bot.generate_response_no_rag(user_query)\n",
    "print(response)"
   ]
  },
  {
   "cell_type": "code",
   "execution_count": 40,
   "metadata": {},
   "outputs": [
    {
     "name": "stdout",
     "output_type": "stream",
     "text": [
      "The patient with a BMI of 42 and a history of well-controlled COPD, hypertension, obstructive sleep apnea, and coronary artery disease may not be appropriate for outpatient surgery due to the risk of perioperative cardiac complications. Severe obesity alone can lead to cardiomyopathy even without intrinsic cardiac disease, increasing the risk of cardiovascular complications. Preoperative cardiac assessment is critical in this patient population.\n"
     ]
    }
   ],
   "source": [
    "user_query = \"\"\"Patient is a 83 year old man who is scheduled for a ureteral stent placement for kidney stones. His BMI is 42. He has a history of well-controlled COPD, hypertension, obstructive sleep apnea on CPAP, and coronary artery disease. He had a myocardial infarction 5 years ago, in which he underwent a CABG. Since then, he has not had any episodes of myocardial ischemia.\"\"\"\n",
    "response = chat_bot.generate_response(user_query)\n",
    "print(response)"
   ]
  },
  {
   "cell_type": "code",
   "execution_count": 41,
   "metadata": {},
   "outputs": [
    {
     "name": "stdout",
     "output_type": "stream",
     "text": [
      "Based on the patient's medical history and current health status, it is recommended that the total shoulder arthroplasty be conducted as an inpatient procedure. Here's why:\n",
      "\n",
      "1. **Complexity of the Surgery:** Total shoulder arthroplasty is a significant surgical procedure that involves replacing the damaged parts of the shoulder joint with artificial components. Given the patient's age and medical conditions, including ischemic cardiomyopathy and severe mitral stenosis, there may be an increased risk of complications during and after the surgery.\n",
      "\n",
      "2. **Cardiac Health Concerns:** The patient's history of ischemic cardiomyopathy, hypertension, and a low ejection fraction of 25% indicate a compromised heart function. An inpatient setting allows for closer monitoring of the patient's cardiac status throughout the surgery and during the initial recovery period.\n",
      "\n",
      "3. **Functional Limitations:** The patient's difficulty in walking up stairs without feeling short of breath suggests limited functional capacity. In an inpatient setting, the medical team can provide comprehensive post-operative care, including monitoring for any cardiac or respiratory issues that may arise.\n",
      "\n",
      "4. **Post-Operative Care:** Given the patient's age and medical complexity, it is essential to have access to immediate medical attention and specialized care in case of any unforeseen complications following the surgery. Inpatient care provides a higher level of support and monitoring during the critical post-operative phase.\n",
      "\n",
      "In summary, considering the patient's age, medical history, and functional limitations, an inpatient setting for the total shoulder arthroplasty would be the safest option to ensure optimal care and management of potential risks associated with the surgery. It is important to prioritize the patient's safety and well-being throughout the surgical process.\n"
     ]
    }
   ],
   "source": [
    "user_query = \"\"\"Patient is a 72 year old female who is scheduled for total shoulder arthroplasty. She has a history of ischemic cardiomyopathy and hypertension. Her last echo demonstrated an ejection of fraction of 25% with severe mitral stenosis. She is unable to walk up 2 flights of stairs without feeling short of breath.\"\"\"\n",
    "response = chat_bot.generate_response_no_rag(user_query)\n",
    "print(response)"
   ]
  },
  {
   "cell_type": "code",
   "execution_count": 58,
   "metadata": {},
   "outputs": [
    {
     "name": "stdout",
     "output_type": "stream",
     "text": [
      "The patient is not appropriate for outpatient surgery due to severe mitral stenosis and symptoms of poor exercise tolerance and dyspnea. Patients with echocardiographic signs of severe valvular disease and symptoms are not suitable candidates for ambulatory surgery. The patient should be considered for inpatient surgery.\n"
     ]
    }
   ],
   "source": [
    "user_query = \"\"\"Patient is a 72 year old female who is scheduled for total shoulder arthroplasty. She has a history of ischemic cardiomyopathy and hypertension. Her last echo demonstrated an ejection of fraction of 25% with severe mitral stenosis. She is unable to walk up 2 flights of stairs without feeling short of breath.\"\"\"\n",
    "response = chat_bot.generate_response(user_query)\n",
    "print(response)"
   ]
  },
  {
   "cell_type": "code",
   "execution_count": 48,
   "metadata": {},
   "outputs": [
    {
     "name": "stdout",
     "output_type": "stream",
     "text": [
      "Based on the information provided, the patient is an 84-year-old male with multiple significant health issues, including a high ASA classification score of 4, severe COPD, end-stage renal disease, and a history of heavy smoking. Given these complex medical conditions, the decision between an inpatient or outpatient setting for the laparoscopic inguinal hernia repair is crucial.\n",
      "\n",
      "In this case, considering the patient's age, ASA score, severe COPD requiring continuous oxygen, and end-stage renal disease, it is highly recommended that the laparoscopic inguinal hernia repair be performed as an inpatient procedure. Here's why:\n",
      "\n",
      "1. **Monitoring and Management:** In an inpatient setting, the patient can be closely monitored post-surgery for any potential complications that may arise due to his multiple health issues. Continuous oxygen support and specialized care for COPD and renal disease can be provided effectively in a hospital environment.\n",
      "\n",
      "2. **Risk of Complications:** The patient's history of heavy smoking, severe COPD, and end-stage renal disease significantly increase the risk of post-operative complications. Being in an inpatient setting allows for immediate intervention and management of any complications that may arise.\n",
      "\n",
      "3. **Dialysis Placement:** Since the patient is awaiting dialysis placement, an inpatient setting ensures that he can receive the necessary care and evaluation for dialysis initiation or continuation post-surgery.\n",
      "\n",
      "4. **Recovery and Rehabilitation:** Inpatient care provides a structured environment for post-operative care, pain management, and rehabilitation, which is crucial for a patient with multiple comorbidities.\n",
      "\n",
      "Given the complexity of the patient's medical conditions and the need for close monitoring and specialized care, an inpatient setting for the laparoscopic inguinal hernia repair is the most appropriate choice in this scenario. It is essential to prioritize the patient's safety and well-being throughout the surgical process.\n"
     ]
    }
   ],
   "source": [
    "user_query = \"\"\"Patient is a 84 year old male with an ASA classification score of 4, who is scheduled for a laparoscopic inguinal hernia repair. He has smoked 100 pack years and has severe COPD requiring continuous oxygen. In addition, he has end-stage renal disease and is awaiting dialysis placement.\"\"\"\n",
    "response = chat_bot.generate_response_no_rag(user_query)\n",
    "print(response)"
   ]
  },
  {
   "cell_type": "code",
   "execution_count": 59,
   "metadata": {},
   "outputs": [
    {
     "name": "stdout",
     "output_type": "stream",
     "text": [
      "The patient is not appropriate for outpatient surgery due to severe COPD requiring continuous oxygen, end-stage renal disease awaiting dialysis placement, and smoking history. These comorbid conditions increase the risk of postoperative complications and would be better managed in an inpatient setting.\n"
     ]
    }
   ],
   "source": [
    "user_query = \"\"\"Patient is a 84 year old male with an ASA classification score of 4, who is scheduled for a laparoscopic inguinal hernia repair. He has smoked 100 pack years and has severe COPD requiring continuous oxygen. In addition, he has end-stage renal disease and is awaiting dialysis placement.\"\"\"\n",
    "response = chat_bot.generate_response(user_query)\n",
    "print(response)"
   ]
  },
  {
   "cell_type": "code",
   "execution_count": 50,
   "metadata": {},
   "outputs": [
    {
     "name": "stdout",
     "output_type": "stream",
     "text": [
      "Given the patient's complex medical history, including a previous history of ventricular fibrillation, placement of an Automatic Implantable Cardioverter Defibrillator (AICD), chest pain with exertion, diabetes, hypertension, and obstructive sleep apnea, it is recommended that the total knee arthroplasty be performed as an inpatient procedure.\n",
      "\n",
      "Here's why:\n",
      "1. **Cardiac History:** The patient's history of ventricular fibrillation and AICD placement indicates a significant cardiac condition. An inpatient setting allows for closer monitoring of the patient's cardiac status during and after the surgery.\n",
      "   \n",
      "2. **Chest Pain:** The chest pain experienced by the patient with exertion could be related to underlying cardiac issues. In an inpatient setting, immediate access to cardiac monitoring and interventions is available if needed.\n",
      "\n",
      "3. **Multiple Comorbidities:** The presence of diabetes, hypertension, and obstructive sleep apnea increases the risk of complications during and after surgery. Inpatient care provides a higher level of post-operative monitoring and management of these conditions.\n",
      "\n",
      "4. **Mobility Concerns:** The patient's inability to walk up two flights of stairs without chest pain suggests limited functional capacity. Inpatient care allows for comprehensive rehabilitation services to aid in the recovery process.\n",
      "\n",
      "In summary, due to the patient's complex medical history and the need for close monitoring of cardiac and other comorbid conditions, it is advisable for the total knee arthroplasty to be performed as an inpatient procedure. This setting ensures the highest level of safety and care for the patient.\n"
     ]
    }
   ],
   "source": [
    "user_query =\"\"\"Patient is a 63 year old man who is planning to undergo total knee arthroplasty. He had a history of multiple episodes of ventricular fibrillation and eventually underwent placement of a AICD one year ago. He is unable to walk up two flights of stairs without feeling chest pain. In addition, he has a history of diabetes, hypertension, and obstructive sleep apnea.\n",
    "\"\"\"\n",
    "response = chat_bot.generate_response_no_rag(user_query)\n",
    "print(response)"
   ]
  },
  {
   "cell_type": "code",
   "execution_count": 60,
   "metadata": {},
   "outputs": [
    {
     "name": "stdout",
     "output_type": "stream",
     "text": [
      "The patient with a history of multiple episodes of ventricular fibrillation, diabetes, hypertension, and obstructive sleep apnea may not be appropriate for outpatient surgery due to the increased risk factors and potential complications. Patients with major cardiac issues and poorly controlled diabetes are typically excluded from outpatient arthroplasty to ensure optimal safety and outcomes. It is important to carefully consider the patient's overall health status and risk factors before determining the appropriate setting for surgery.\n"
     ]
    }
   ],
   "source": [
    "user_query =\"\"\"Patient is a 63 year old man who is planning to undergo total knee arthroplasty. He had a history of multiple episodes of ventricular fibrillation and eventually underwent placement of a AICD one year ago. He is unable to walk up two flights of stairs without feeling chest pain. In addition, he has a history of diabetes, hypertension, and obstructive sleep apnea.\n",
    "\"\"\"\n",
    "response = chat_bot.generate_response(user_query)\n",
    "print(response)"
   ]
  },
  {
   "cell_type": "code",
   "execution_count": 52,
   "metadata": {},
   "outputs": [
    {
     "name": "stdout",
     "output_type": "stream",
     "text": [
      "Given the patient's medical history of hypertension, lupus, well-controlled asthma, and chronic renal insufficiency, it is important to consider these factors when deciding whether the laparoscopic myomectomy should be performed as an inpatient or outpatient procedure.\n",
      "\n",
      "In this case, due to the presence of multiple medical conditions, it would be advisable for the surgery to be conducted as an inpatient procedure. Here's why:\n",
      "\n",
      "1. **Monitoring and Management:** In an inpatient setting, the patient can be closely monitored post-surgery for any potential complications related to her medical conditions. This allows for prompt intervention if needed.\n",
      "\n",
      "2. **Pain Management:** Given the nature of the surgery and the patient's medical history, adequate pain management and monitoring can be better achieved in an inpatient setting.\n",
      "\n",
      "3. **Medical Support:** Inpatient care provides access to a multidisciplinary team of healthcare professionals who can address any medical concerns that may arise during the recovery period.\n",
      "\n",
      "4. **Safety Concerns:** Considering the patient's history of chronic conditions, an inpatient setting offers a safer environment for managing any unforeseen issues that may arise during or after the surgery.\n",
      "\n",
      "While outpatient procedures are common for laparoscopic myomectomies, the patient's complex medical history suggests that an inpatient setting would be more appropriate to ensure her safety and well-being throughout the surgical process and recovery.\n",
      "\n",
      "It's essential to prioritize the patient's health and safety in making this decision. The medical clearance note from her primary care provider is a positive indication, but the complexity of her medical history warrants a more closely monitored inpatient setting for this particular surgery.\n"
     ]
    }
   ],
   "source": [
    "user_query =\"\"\"Patient is a 51 year old female who is planning to undergo laparoscopic myomectomy for fibroids. He has a history of hypertension, lupus, well-controlled asthma, and chronic renal insufficiency. She is compliant with her medications. There is a medical clearance note provided by her primary care provider.\n",
    "\"\"\"\n",
    "response = chat_bot.generate_response_no_rag(user_query)\n",
    "print(response)"
   ]
  },
  {
   "cell_type": "code",
   "execution_count": 61,
   "metadata": {},
   "outputs": [
    {
     "name": "stdout",
     "output_type": "stream",
     "text": [
      "The patient with a history of hypertension, lupus, well-controlled asthma, and chronic renal insufficiency may not be appropriate for outpatient surgery due to the complexity of her medical history and comorbid conditions. Inpatient surgery may be more suitable to ensure close monitoring and management of potential complications during and after the procedure. The medical clearance note provided by her primary care provider should be carefully reviewed to determine the most appropriate setting for the surgery.\n"
     ]
    }
   ],
   "source": [
    "user_query =\"\"\"Patient is a 51 year old female who is planning to undergo laparoscopic myomectomy for fibroids. She has a history of hypertension, lupus, well-controlled asthma, and chronic renal insufficiency. She is compliant with her medications. There is a medical clearance note provided by her primary care provider.\n",
    "\"\"\"\n",
    "response = chat_bot.generate_response(user_query)\n",
    "print(response)"
   ]
  },
  {
   "cell_type": "code",
   "execution_count": 54,
   "metadata": {},
   "outputs": [
    {
     "name": "stdout",
     "output_type": "stream",
     "text": [
      "Given the complex medical history of the patient, it is advisable for the umbilical hernia repair to be performed as an inpatient procedure rather than outpatient. Here's why:\n",
      "\n",
      "1. **Multiple Comorbidities:** The patient's history of ischemic cardiomyopathy, cirrhosis, end-stage renal disease, pulmonary hypertension, aortic stenosis, and recent myocardial infarction with a drug-eluting stent places him at high risk for complications during and after surgery. These conditions may require close monitoring and specialized care that are more readily available in an inpatient setting.\n",
      "\n",
      "2. **Medication Management:** The patient is currently on dual anti-platelet therapy following the placement of a drug-eluting stent. In an inpatient setting, healthcare providers can closely monitor and manage the patient's medications to prevent any interactions or adverse effects during and after the surgery.\n",
      "\n",
      "3. **Postoperative Care:** Given the patient's compromised health status, he may require more intensive postoperative care, including monitoring for potential complications such as bleeding, infection, or cardiovascular events. In an inpatient setting, healthcare providers can promptly address any issues that may arise.\n",
      "\n",
      "4. **Risk Mitigation:** Performing the surgery in an inpatient setting allows for better coordination among the various specialists involved in the patient's care, including cardiologists, nephrologists, and surgeons. This multidisciplinary approach can help minimize the risks associated with the surgery and improve the patient's overall outcome.\n",
      "\n",
      "In conclusion, considering the patient's complex medical history and multiple comorbidities, it is recommended that the umbilical hernia repair be conducted as an inpatient procedure to ensure the highest level of safety and care for the patient.\n"
     ]
    }
   ],
   "source": [
    "user_query =\"\"\"Patient is a 64 year old man who is planning to undergo an umbilical hernia repair. He has a history of ischemic cardiomyopathy (with recent ejection fraction of 30%), cirrhosis with persistent ascites, end-stage renal disease on dialysis, moderate pulmonary hypertension, and moderate aortic stenosis. He had a myocardial infarction 5 months, in which is received a drug eluting stent to his LAD. He is now on dual anti-platelet therapy.\n",
    "\"\"\"\n",
    "response = chat_bot.generate_response_no_rag(user_query)\n",
    "print(response)"
   ]
  },
  {
   "cell_type": "code",
   "execution_count": 62,
   "metadata": {},
   "outputs": [
    {
     "name": "stdout",
     "output_type": "stream",
     "text": [
      "The patient is not appropriate for outpatient surgery due to the severe systemic diseases that are a constant threat to life, including recent myocardial infarction, end-stage renal disease, and moderate aortic stenosis. The patient falls under the category of a patient with severe systemic disease that is a constant threat to life and is not expected to survive without the operation, making inpatient surgery more appropriate. The patient's complex medical history and ongoing dual anti-platelet therapy also indicate the need for close monitoring and management in an inpatient setting.\n"
     ]
    }
   ],
   "source": [
    "user_query =\"\"\"Patient is a 64 year old man who is planning to undergo an umbilical hernia repair. He has a history of ischemic cardiomyopathy (with recent ejection fraction of 30%), cirrhosis with persistent ascites, end-stage renal disease on dialysis, moderate pulmonary hypertension, and moderate aortic stenosis. He had a myocardial infarction 5 months, in which is received a drug eluting stent to his LAD. He is now on dual anti-platelet therapy.\n",
    "\"\"\"\n",
    "response = chat_bot.generate_response(user_query)\n",
    "print(response)"
   ]
  },
  {
   "cell_type": "code",
   "execution_count": 56,
   "metadata": {},
   "outputs": [
    {
     "name": "stdout",
     "output_type": "stream",
     "text": [
      "Given the patient's age of 98 and the presence of multiple medical conditions such as hypertension, diabetes, hyperlipidemia, and depression, along with a BMI of 27, the decision between inpatient and outpatient total thyroidectomy should be carefully considered.\n",
      "\n",
      "In this case, due to the patient's age and medical history, it is advisable to recommend an inpatient procedure for the total thyroidectomy. Here's why:\n",
      "\n",
      "1. **Postoperative Monitoring:** An inpatient setting allows for closer monitoring of the patient's vital signs, pain management, and potential complications that may arise after surgery, especially considering the patient's age and existing medical conditions.\n",
      "\n",
      "2. **Medical Support:** Inpatient care provides access to medical professionals round-the-clock, ensuring immediate intervention in case of any unforeseen issues or emergencies.\n",
      "\n",
      "3. **Recovery and Rehabilitation:** The patient may benefit from a more structured and supervised recovery process in an inpatient setting, which can help manage postoperative pain, prevent infections, and facilitate early mobilization.\n",
      "\n",
      "4. **Risk Management:** Given the patient's history of hypertension, diabetes, and hyperlipidemia, an inpatient setting offers a safer environment for managing these conditions perioperatively and ensuring optimal recovery.\n",
      "\n",
      "Considering these factors, an inpatient total thyroidectomy would be the most appropriate choice for this patient to ensure comprehensive care and a successful surgical outcome. It's essential to discuss these recommendations with the healthcare team involved in the patient's care to provide the best possible support and management throughout the surgical process.\n"
     ]
    }
   ],
   "source": [
    "user_query =\"\"\"Patient is a 98 year old female who is planning to undergo total thyroidectomy. He has a BMI of 27 and has a history of hypertension, diabetes, hyperlipidemia, and depression. His last hemoglobin A1c was 7.2.\n",
    "\"\"\"\n",
    "response = chat_bot.generate_response_no_rag(user_query)\n",
    "print(response)"
   ]
  },
  {
   "cell_type": "code",
   "execution_count": 41,
   "metadata": {},
   "outputs": [
    {
     "name": "stdout",
     "output_type": "stream",
     "text": [
      "The patient with a history of hypertension, diabetes, hyperlipidemia, and depression, with a last hemoglobin A1c of 7.2, may be appropriate for outpatient surgery based on their long-term blood glucose control. However, it is important to confer with the treating endocrinologist regarding surgery to determine safe infusion rates and manage hyperglycemia perioperatively. Preoperative blood glucose levels and A1C levels can guide decision-making on the appropriateness of outpatient surgery for this patient.\n"
     ]
    }
   ],
   "source": [
    "user_query =\"\"\"Patient is a 98 year old female who is planning to undergo total thyroidectomy. He has a BMI of 27 and has a history of hypertension, diabetes, hyperlipidemia, and depression. His last hemoglobin A1c was 7.2.\n",
    "\"\"\"\n",
    "response = chat_bot.generate_response(user_query)\n",
    "print(response)"
   ]
  },
  {
   "cell_type": "code",
   "execution_count": 68,
   "metadata": {},
   "outputs": [
    {
     "name": "stdout",
     "output_type": "stream",
     "text": [
      "[Document(metadata={'page': 12, 'source': 'Journals/1-s2.0-S0883540324011811-main.pdf'}, page_content='patients undergoing TJA would choose outpatient surgery again, with a total of two admissions 206 \\nand no repeat readmissions [27]. The success of their outpatient TJAs could be attributed to their 207 \\npreoperative protocol requiring patient engagement and consent, formal education, postoperative 208 \\npain control plan, immediate physical therapy, and home support. Another study utilizing standard 209 \\nquestionnaires found that patients preferred outpatient arthroplasty compared to inpatient, which 210 \\nfurther supports improved patient satisfaction with SDD at home [28]. 211 \\nBased on our promising results, we utilized our current patient selection criteria to create a 212 \\nconcise and effective algorithm to guide orthopaedics in shared decision-making for SDD (Figure 213 \\n1). In addition to the selection criteria highlighted in our algorithm, our facility has developed a 214 \\ncomprehensive treatment pathway that includes medical screening, formal in-person pre-operative 215'), Document(metadata={'page': 15, 'source': 'Journals/1-s2.0-S0883540324011811-main.pdf'}, page_content='Arthroplast Today 2023;20:101115. https://doi.org/10.1016/j.artd.2023.101115. 254 \\n[4] Agarwal AR, Harris AB, Cohen JS, Gu A, Srikumaran U, Thakkar SC, et al. Total Knee 255 \\nArthroplasty During the COVID-19 Pandemic: Rapid Return to Baseline Volume and 256 \\nContinuation of Trend Toward Outpatient Surgery. J Orthop Exp Innov 2023. 257 \\nhttps://doi.org/10.60118/001c.84305. 258 \\n[5] DeCook CA. Outpatient Joint Arthroplasty: Transitioning to the Ambulatory Surgery 259 \\nCenter. J Arthroplasty 2019;34:S48–50. https://doi.org/10.1016/j.arth.2019.01.006. 260 \\n[6] Meneghini R, Gibson W, Halsey D, Padgett D, Berend K, Della Valle CJ. The American 261 \\nAssociation of Hip and Knee Surgeons, Hip Society, Knee Society, and American 262 \\nAcademy of Orthopaedic Surgeons Position Statement on Outpatient Joint Replacement. J 263 \\nArthroplasty 2018;33:3599–601. https://doi.org/10.1016/j.arth.2018.10.029. 264 \\n[7] Rozell JC, Ast MP, Jiranek WA, Kim RH, Della Valle CJ. Outpatient Total Joint 265'), Document(metadata={'page': 4, 'source': 'Journals/1-s2.0-S0883540324011811-main.pdf'}, page_content='The recent lite rature suggests equivocal or improved patient outcomes regarding complications 49 \\nand readmission associated with outpatient TJA [1]. 50 \\nAs SDD and outpatient TJA continue to rise in popularity, it is important to continue to 51 \\ncritically analyze and optimize pati ent safety. This priority is reflected in a 2018 statement from 52 \\nthe American Association of Hip and Knee Surgeons (AAHKS) stressing patient safety as a core 53 \\nprinciple for physicians providing outpatient TJA [6]. The organization urged providers and 54 \\nfacilities to closely monitor and review patient demographics and outcomes in regard to SDD and 55 \\nJournal Pre-proof'), Document(metadata={'page': 6, 'source': 'Journals/1-s2.0-S0883540324011811-main.pdf'}, page_content='Methods  73 \\nCase Selection 74 \\nFollowing institutional review board approval, charts and records were reviewed for all 75 \\npatients between July 1, 2019, and October 31, 2021, who underwent primary THA and TKA in a 76 \\nsingle free-standing ASC. Our total patient cohort is representative of five different arthroplasty 77 \\nsurgeons operating at this free-standing ASC. A total joint arthroplasty protocol was developed in 78 \\nconjunction with anesthesia based on a review of the literature on patient optimization and patient 79 \\nfactors that increase the risk of medical and surgical complications  (Figure 1). Per the total joint 80 \\narthroplasty protocol in this free-standing ASC, patients were excluded from arthroplasty at this 81 \\nASC if they had major cardiac or pulmonary disease, poorly controlled diabetes, pre -operative 82 \\nanemia, lack of home support, pre -operative opioid use, body mass index (BMI)  > 38, age > 80 83 \\nyears, or current smoking status.  84 \\nData Collection 85'), Document(metadata={'page': 18, 'source': 'Journals/1-s2.0-S0883540324011811-main.pdf'}, page_content='[26] Shen TS, Rodriguez S, LeBrun DG, Yu JS, Gonzalez Della Valle A, Ast MP, et al. 323 \\nReasons and Risk Factors for Failed Same-Day Discharge After Primary Total Knee 324 \\nArthroplasty. J Arthroplasty 2023;38:668–72. https://doi.org/10.1016/j.arth.2022.10.044. 325 \\n[27] Ghoshal S, Salazar C, Duggan J, Howell C, Chen AF, Shah VM. Assessment of Patient 326 \\nSatisfaction and Outcomes After Outpatient Joint Arthroplasty in Academic Medical 327 \\nCenters. Arthroplast Today 2023;24:101246. https://doi.org/10.1016/j.artd.2023.101246. 328 \\n[28] Kelly MP, Calkins TE, Culvern C, Kogan M, Della Valle CJ. Inpatient Versus Outpatient 329 \\nHip and Knee Arthroplasty: Which Has Higher Patient Satisfaction? J Arthroplasty 330 \\n2018;33:3402–6. https://doi.org/10.1016/j.arth.2018.07.025. 331 \\n 332 \\nJournal Pre-proof')]\n",
      "The patient may be appropriate for outpatient knee surgery based on the success of outpatient total joint arthroplasty (TJA) procedures, patient preference for outpatient arthroplasty, and the development of comprehensive treatment pathways for outpatient surgery. The patient's current health status and the presence of home support are also factors that support outpatient knee surgery. However, it is important to consider the specific patient selection criteria and protocols in place at the facility where the surgery will be performed.\n"
     ]
    }
   ],
   "source": [
    "user_query =\"I am patient and I am suffering from OUD. I would like to get Knee Surgery done. I am healthy currently.\"\n",
    "response = chat_bot.generate_response(user_query)\n",
    "print(response)"
   ]
  },
  {
   "cell_type": "code",
   "execution_count": null,
   "metadata": {},
   "outputs": [
    {
     "name": "stdout",
     "output_type": "stream",
     "text": [
      "Based on the information provided, the patient is an 84-year-old male with multiple significant health issues, including a high ASA classification score of 4, severe COPD, end-stage renal disease, and a history of heavy smoking. Given these complex medical conditions, the decision between an inpatient or outpatient setting for the laparoscopic inguinal hernia repair is crucial.\n",
      "\n",
      "In this case, considering the patient's age, ASA score, severe COPD requiring continuous oxygen, and end-stage renal disease, it is highly recommended that the laparoscopic inguinal hernia repair be performed as an inpatient procedure. Here's why:\n",
      "\n",
      "1. **Monitoring and Management:** In an inpatient setting, the patient can be closely monitored post-surgery for any potential complications that may arise due to his multiple health issues. Continuous oxygen support and specialized care for COPD and renal disease can be provided effectively in a hospital environment.\n",
      "\n",
      "2. **Risk of Complications:** The patient's history of heavy smoking, severe COPD, and end-stage renal disease significantly increase the risk of post-operative complications. Being in an inpatient setting allows for immediate intervention and management of any complications that may arise.\n",
      "\n",
      "3. **Dialysis Placement:** Since the patient is awaiting dialysis placement, an inpatient setting ensures that he can receive the necessary care and evaluation for dialysis initiation or continuation post-surgery.\n",
      "\n",
      "4. **Recovery and Rehabilitation:** Inpatient care provides a structured environment for post-operative care, pain management, and rehabilitation, which is crucial for a patient with multiple comorbidities.\n",
      "\n",
      "Given the complexity of the patient's medical conditions and the need for close monitoring and specialized care, an inpatient setting for the laparoscopic inguinal hernia repair is the most appropriate choice in this scenario. It is essential to prioritize the patient's safety and well-being throughout the surgical process.\n"
     ]
    }
   ],
   "source": [
    "user_query = \"\"\"Patient is a 84 year old male with an ASA classification score of 4, who is scheduled for a laparoscopic inguinal hernia repair. He has smoked 100 pack years and has severe COPD requiring continuous oxygen. In addition, he has end-stage renal disease and is awaiting dialysis placement.\"\"\"\n",
    "response = chat_bot.generate_response_no_rag(user_query)\n",
    "print(response)"
   ]
  }
 ],
 "metadata": {
  "kernelspec": {
   "display_name": "med277project",
   "language": "python",
   "name": "python3"
  },
  "language_info": {
   "codemirror_mode": {
    "name": "ipython",
    "version": 3
   },
   "file_extension": ".py",
   "mimetype": "text/x-python",
   "name": "python",
   "nbconvert_exporter": "python",
   "pygments_lexer": "ipython3",
   "version": "3.12.2"
  }
 },
 "nbformat": 4,
 "nbformat_minor": 2
}
